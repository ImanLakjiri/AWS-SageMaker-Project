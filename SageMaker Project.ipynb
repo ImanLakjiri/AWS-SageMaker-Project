{
 "cells": [
  {
   "cell_type": "markdown",
   "metadata": {},
   "source": [
    "# Creating a Sentiment Analysis Web App\n",
    "## Using PyTorch and SageMaker\n",
    "\n",
    "_Deep Learning Nanodegree Program | Deployment_\n",
    "\n",
    "---\n",
    "\n",
    "Now that we have a basic understanding of how SageMaker works we will try to use it to construct a complete project from end to end. Our goal will be to have a simple web page which a user can use to enter a movie review. The web page will then send the review off to our deployed model which will predict the sentiment of the entered review.\n",
    "\n",
    "## Instructions\n",
    "\n",
    "Some template code has already been provided for you, and you will need to implement additional functionality to successfully complete this notebook. You will not need to modify the included code beyond what is requested. Sections that begin with '**TODO**' in the header indicate that you need to complete or implement some portion within them. Instructions will be provided for each section and the specifics of the implementation are marked in the code block with a `# TODO: ...` comment. Please be sure to read the instructions carefully!\n",
    "\n",
    "In addition to implementing code, there will be questions for you to answer which relate to the task and your implementation. Each section where you will answer a question is preceded by a '**Question:**' header. Carefully read each question and provide your answer below the '**Answer:**' header by editing the Markdown cell.\n",
    "\n",
    "> **Note**: Code and Markdown cells can be executed using the **Shift+Enter** keyboard shortcut. In addition, a cell can be edited by typically clicking it (double-click for Markdown cells) or by pressing **Enter** while it is highlighted.\n",
    "\n",
    "## General Outline\n",
    "\n",
    "Recall the general outline for SageMaker projects using a notebook instance.\n",
    "\n",
    "1. Download or otherwise retrieve the data.\n",
    "2. Process / Prepare the data.\n",
    "3. Upload the processed data to S3.\n",
    "4. Train a chosen model.\n",
    "5. Test the trained model (typically using a batch transform job).\n",
    "6. Deploy the trained model.\n",
    "7. Use the deployed model.\n",
    "\n",
    "For this project, you will be following the steps in the general outline with some modifications. \n",
    "\n",
    "First, you will not be testing the model in its own step. You will still be testing the model, however, you will do it by deploying your model and then using the deployed model by sending the test data to it. One of the reasons for doing this is so that you can make sure that your deployed model is working correctly before moving forward.\n",
    "\n",
    "In addition, you will deploy and use your trained model a second time. In the second iteration you will customize the way that your trained model is deployed by including some of your own code. In addition, your newly deployed model will be used in the sentiment analysis web app."
   ]
  },
  {
   "cell_type": "code",
   "execution_count": 1,
   "metadata": {},
   "outputs": [
    {
     "name": "stdout",
     "output_type": "stream",
     "text": [
      "Requirement already satisfied: sagemaker==1.72.0 in /home/ec2-user/anaconda3/envs/pytorch_p36/lib/python3.6/site-packages (1.72.0)\n",
      "Requirement already satisfied: protobuf3-to-dict>=0.1.5 in /home/ec2-user/anaconda3/envs/pytorch_p36/lib/python3.6/site-packages (from sagemaker==1.72.0) (0.1.5)\n",
      "Requirement already satisfied: numpy>=1.9.0 in /home/ec2-user/anaconda3/envs/pytorch_p36/lib/python3.6/site-packages (from sagemaker==1.72.0) (1.19.5)\n",
      "Requirement already satisfied: importlib-metadata>=1.4.0 in /home/ec2-user/anaconda3/envs/pytorch_p36/lib/python3.6/site-packages (from sagemaker==1.72.0) (3.7.0)\n",
      "Requirement already satisfied: smdebug-rulesconfig==0.1.4 in /home/ec2-user/anaconda3/envs/pytorch_p36/lib/python3.6/site-packages (from sagemaker==1.72.0) (0.1.4)\n",
      "Requirement already satisfied: packaging>=20.0 in /home/ec2-user/anaconda3/envs/pytorch_p36/lib/python3.6/site-packages (from sagemaker==1.72.0) (20.9)\n",
      "Requirement already satisfied: boto3>=1.14.12 in /home/ec2-user/anaconda3/envs/pytorch_p36/lib/python3.6/site-packages (from sagemaker==1.72.0) (1.17.70)\n",
      "Requirement already satisfied: scipy>=0.19.0 in /home/ec2-user/anaconda3/envs/pytorch_p36/lib/python3.6/site-packages (from sagemaker==1.72.0) (1.5.3)\n",
      "Requirement already satisfied: protobuf>=3.1 in /home/ec2-user/anaconda3/envs/pytorch_p36/lib/python3.6/site-packages (from sagemaker==1.72.0) (3.15.2)\n",
      "Requirement already satisfied: s3transfer<0.5.0,>=0.4.0 in /home/ec2-user/anaconda3/envs/pytorch_p36/lib/python3.6/site-packages (from boto3>=1.14.12->sagemaker==1.72.0) (0.4.2)\n",
      "Requirement already satisfied: jmespath<1.0.0,>=0.7.1 in /home/ec2-user/anaconda3/envs/pytorch_p36/lib/python3.6/site-packages (from boto3>=1.14.12->sagemaker==1.72.0) (0.10.0)\n",
      "Requirement already satisfied: botocore<1.21.0,>=1.20.70 in /home/ec2-user/anaconda3/envs/pytorch_p36/lib/python3.6/site-packages (from boto3>=1.14.12->sagemaker==1.72.0) (1.20.70)\n",
      "Requirement already satisfied: urllib3<1.27,>=1.25.4 in /home/ec2-user/anaconda3/envs/pytorch_p36/lib/python3.6/site-packages (from botocore<1.21.0,>=1.20.70->boto3>=1.14.12->sagemaker==1.72.0) (1.26.4)\n",
      "Requirement already satisfied: python-dateutil<3.0.0,>=2.1 in /home/ec2-user/anaconda3/envs/pytorch_p36/lib/python3.6/site-packages (from botocore<1.21.0,>=1.20.70->boto3>=1.14.12->sagemaker==1.72.0) (2.8.1)\n",
      "Requirement already satisfied: typing-extensions>=3.6.4 in /home/ec2-user/anaconda3/envs/pytorch_p36/lib/python3.6/site-packages (from importlib-metadata>=1.4.0->sagemaker==1.72.0) (3.7.4.3)\n",
      "Requirement already satisfied: zipp>=0.5 in /home/ec2-user/anaconda3/envs/pytorch_p36/lib/python3.6/site-packages (from importlib-metadata>=1.4.0->sagemaker==1.72.0) (3.4.0)\n",
      "Requirement already satisfied: pyparsing>=2.0.2 in /home/ec2-user/anaconda3/envs/pytorch_p36/lib/python3.6/site-packages (from packaging>=20.0->sagemaker==1.72.0) (2.4.7)\n",
      "Requirement already satisfied: six>=1.9 in /home/ec2-user/anaconda3/envs/pytorch_p36/lib/python3.6/site-packages (from protobuf>=3.1->sagemaker==1.72.0) (1.15.0)\n"
     ]
    }
   ],
   "source": [
    "# Make sure that we use SageMaker 1.x\n",
    "!pip install sagemaker==1.72.0"
   ]
  },
  {
   "cell_type": "markdown",
   "metadata": {},
   "source": [
    "## Step 1: Downloading the data\n",
    "\n",
    "As in the XGBoost in SageMaker notebook, we will be using the [IMDb dataset](http://ai.stanford.edu/~amaas/data/sentiment/)\n",
    "\n",
    "> Maas, Andrew L., et al. [Learning Word Vectors for Sentiment Analysis](http://ai.stanford.edu/~amaas/data/sentiment/). In _Proceedings of the 49th Annual Meeting of the Association for Computational Linguistics: Human Language Technologies_. Association for Computational Linguistics, 2011."
   ]
  },
  {
   "cell_type": "code",
   "execution_count": 2,
   "metadata": {},
   "outputs": [
    {
     "name": "stdout",
     "output_type": "stream",
     "text": [
      "mkdir: cannot create directory ‘../data’: File exists\n",
      "--2021-05-18 13:53:05--  http://ai.stanford.edu/~amaas/data/sentiment/aclImdb_v1.tar.gz\n",
      "Resolving ai.stanford.edu (ai.stanford.edu)... 171.64.68.10\n",
      "Connecting to ai.stanford.edu (ai.stanford.edu)|171.64.68.10|:80... connected.\n",
      "HTTP request sent, awaiting response... 200 OK\n",
      "Length: 84125825 (80M) [application/x-gzip]\n",
      "Saving to: ‘../data/aclImdb_v1.tar.gz’\n",
      "\n",
      "../data/aclImdb_v1. 100%[===================>]  80.23M  17.3MB/s    in 9.6s    \n",
      "\n",
      "2021-05-18 13:53:15 (8.40 MB/s) - ‘../data/aclImdb_v1.tar.gz’ saved [84125825/84125825]\n",
      "\n"
     ]
    }
   ],
   "source": [
    "%mkdir ../data\n",
    "!wget -O ../data/aclImdb_v1.tar.gz http://ai.stanford.edu/~amaas/data/sentiment/aclImdb_v1.tar.gz\n",
    "!tar -zxf ../data/aclImdb_v1.tar.gz -C ../data"
   ]
  },
  {
   "cell_type": "markdown",
   "metadata": {},
   "source": [
    "## Step 2: Preparing and Processing the data\n",
    "\n",
    "Also, as in the XGBoost notebook, we will be doing some initial data processing. The first few steps are the same as in the XGBoost example. To begin with, we will read in each of the reviews and combine them into a single input structure. Then, we will split the dataset into a training set and a testing set."
   ]
  },
  {
   "cell_type": "code",
   "execution_count": 3,
   "metadata": {},
   "outputs": [],
   "source": [
    "import os\n",
    "import glob\n",
    "\n",
    "def read_imdb_data(data_dir='../data/aclImdb'):\n",
    "    data = {}\n",
    "    labels = {}\n",
    "    \n",
    "    for data_type in ['train', 'test']:\n",
    "        data[data_type] = {}\n",
    "        labels[data_type] = {}\n",
    "        \n",
    "        for sentiment in ['pos', 'neg']:\n",
    "            data[data_type][sentiment] = []\n",
    "            labels[data_type][sentiment] = []\n",
    "            \n",
    "            path = os.path.join(data_dir, data_type, sentiment, '*.txt')\n",
    "            files = glob.glob(path)\n",
    "            \n",
    "            for f in files:\n",
    "                with open(f) as review:\n",
    "                    data[data_type][sentiment].append(review.read())\n",
    "                    # Here we represent a positive review by '1' and a negative review by '0'\n",
    "                    labels[data_type][sentiment].append(1 if sentiment == 'pos' else 0)\n",
    "                    \n",
    "            assert len(data[data_type][sentiment]) == len(labels[data_type][sentiment]), \\\n",
    "                    \"{}/{} data size does not match labels size\".format(data_type, sentiment)\n",
    "                \n",
    "    return data, labels"
   ]
  },
  {
   "cell_type": "code",
   "execution_count": 4,
   "metadata": {},
   "outputs": [
    {
     "name": "stdout",
     "output_type": "stream",
     "text": [
      "IMDB reviews: train = 12500 pos / 12500 neg, test = 12500 pos / 12500 neg\n"
     ]
    }
   ],
   "source": [
    "data, labels = read_imdb_data()\n",
    "print(\"IMDB reviews: train = {} pos / {} neg, test = {} pos / {} neg\".format(\n",
    "            len(data['train']['pos']), len(data['train']['neg']),\n",
    "            len(data['test']['pos']), len(data['test']['neg'])))"
   ]
  },
  {
   "cell_type": "markdown",
   "metadata": {},
   "source": [
    "Now that we've read the raw training and testing data from the downloaded dataset, we will combine the positive and negative reviews and shuffle the resulting records."
   ]
  },
  {
   "cell_type": "code",
   "execution_count": 5,
   "metadata": {},
   "outputs": [],
   "source": [
    "from sklearn.utils import shuffle\n",
    "\n",
    "def prepare_imdb_data(data, labels):\n",
    "    \"\"\"Prepare training and test sets from IMDb movie reviews.\"\"\"\n",
    "    \n",
    "    #Combine positive and negative reviews and labels\n",
    "    data_train = data['train']['pos'] + data['train']['neg']\n",
    "    data_test = data['test']['pos'] + data['test']['neg']\n",
    "    labels_train = labels['train']['pos'] + labels['train']['neg']\n",
    "    labels_test = labels['test']['pos'] + labels['test']['neg']\n",
    "    \n",
    "    #Shuffle reviews and corresponding labels within training and test sets\n",
    "    data_train, labels_train = shuffle(data_train, labels_train)\n",
    "    data_test, labels_test = shuffle(data_test, labels_test)\n",
    "    \n",
    "    # Return a unified training data, test data, training labels, test labets\n",
    "    return data_train, data_test, labels_train, labels_test"
   ]
  },
  {
   "cell_type": "code",
   "execution_count": 6,
   "metadata": {},
   "outputs": [
    {
     "name": "stdout",
     "output_type": "stream",
     "text": [
      "IMDb reviews (combined): train = 25000, test = 25000\n"
     ]
    }
   ],
   "source": [
    "train_X, test_X, train_y, test_y = prepare_imdb_data(data, labels)\n",
    "print(\"IMDb reviews (combined): train = {}, test = {}\".format(len(train_X), len(test_X)))"
   ]
  },
  {
   "cell_type": "markdown",
   "metadata": {},
   "source": [
    "Now that we have our training and testing sets unified and prepared, we should do a quick check and see an example of the data our model will be trained on. This is generally a good idea as it allows you to see how each of the further processing steps affects the reviews and it also ensures that the data has been loaded correctly."
   ]
  },
  {
   "cell_type": "code",
   "execution_count": 7,
   "metadata": {},
   "outputs": [
    {
     "name": "stdout",
     "output_type": "stream",
     "text": [
      "This is an amazing film to watch or show young people. Aside from a very brief nude scene, it gives an interesting glimpse into colonial rule in Africa that you'll rarely find in other films. It does bear a superficial similarity to OUT OF Africa, but without all the romantic fluff. The White French people in Cameroon are fascinating because they don't even seem to regard the natives as people. The Whites are all the bosses and they expect Black servitude without question. However, unlike real servants, you only once hear any of the Whites say 'thank you' and no other regard is given these people. Again and again, it's like they are pets or slaves, as the feelings of the people are never even considered. <br /><br />The central illustration of this thoughtlessness is the relationship between the mother, Aimée and her servant, Protée. Although at times they spend a lot of time together and it is only normal that they might begin to have sexual feelings towards each other, the White woman never considers Protée or the existence of his feelings. A good example of this thoughtlessness is when she has Protée lace up her dress and it's obvious that he is very sexually frustrated by this. Apart from this relationship, while almost all the Whites are completely oblivious to the fact that the Africans are people, a few go so far as to verbally abuse and treat them like garbage.<br /><br />Also interesting is the relationship between Protée and the little girl (who is the one who is grown at the beginning and end of the film). While they are very close, at times he's more like a plaything or pet and the girl never plays with native children.<br /><br />There is one bizarre White character who seems, at times, to regard the Blacks better but unfortunately his character is very inconsistent and confusing. One moment, he's doing hard work along side the Blacks or eating with them (something the other Whites would never have done) and the next he's trying to beat up Protée! I could only guess as to what motivated him--perhaps he was just a jerk, or was crazy or perhaps was a Communist agitator trying to stir up the Blacks against the Whites (who knows!). In fact, other than a few good scenes, this character seems pretty much wasted.<br /><br />While I really enjoyed the insight this movie gave, I wish it had instead been more than just a few snippets of this world through the perspective of a child during one small period of her life. The context and what happened to rid the country of colonialism is never addressed and the film left me wanting more. The film appeared to begin in the early 1980s (since she's wearing a Walkman-style headset) and when the film went back in time, it seems that it was set about 1960 (more or less), but there was never any mention of the 1950s anti-colonialism violence or independence for the nation in the early 1960s. I am guessing that some of this confusion might be that the makers of the film screwed up and SHOULD have made the beginning of the film earlier (such as the 1970s) and had the lady think back to her life there in the early 1950s--before the country experienced political change.<br /><br />Apart from the missing context and a confusion over time periods, using the prologue and epilogue that showed her as an adult traveling the country was a good idea. And I also appreciated the ending, as it was a pleasant surprise when you find out more about the nice man who offers her a ride. But overall, it just feels like something is missing--there just isn't any sort of resolution or message other than showing that colonialism is thoughtless and cruel.\n",
      "1\n",
      "3638\n"
     ]
    }
   ],
   "source": [
    "print(train_X[100])\n",
    "print(train_y[100])\n",
    "print(len(train_X[100]))"
   ]
  },
  {
   "cell_type": "markdown",
   "metadata": {},
   "source": [
    "The first step in processing the reviews is to make sure that any html tags that appear should be removed. In addition we wish to tokenize our input, that way words such as *entertained* and *entertaining* are considered the same with regard to sentiment analysis."
   ]
  },
  {
   "cell_type": "code",
   "execution_count": 8,
   "metadata": {},
   "outputs": [],
   "source": [
    "import nltk\n",
    "from nltk.corpus import stopwords\n",
    "from nltk.stem.porter import *\n",
    "\n",
    "import re\n",
    "from bs4 import BeautifulSoup\n",
    "\n",
    "def review_to_words(review):\n",
    "    nltk.download(\"stopwords\", quiet=True)\n",
    "    stemmer = PorterStemmer()\n",
    "    \n",
    "    text = BeautifulSoup(review, \"html.parser\").get_text() # Remove HTML tags\n",
    "    text = re.sub(r\"[^a-zA-Z0-9]\", \" \", text.lower()) # Convert to lower case\n",
    "    words = text.split() # Split string into words\n",
    "    words = [w for w in words if w not in stopwords.words(\"english\")] # Remove stopwords\n",
    "    words = [PorterStemmer().stem(w) for w in words] # stem\n",
    "    \n",
    "    return words"
   ]
  },
  {
   "cell_type": "markdown",
   "metadata": {},
   "source": [
    "The `review_to_words` method defined above uses `BeautifulSoup` to remove any html tags that appear and uses the `nltk` package to tokenize the reviews. As a check to ensure we know how everything is working, try applying `review_to_words` to one of the reviews in the training set."
   ]
  },
  {
   "cell_type": "code",
   "execution_count": 9,
   "metadata": {},
   "outputs": [
    {
     "data": {
      "text/plain": [
       "['amaz',\n",
       " 'film',\n",
       " 'watch',\n",
       " 'show',\n",
       " 'young',\n",
       " 'peopl',\n",
       " 'asid',\n",
       " 'brief',\n",
       " 'nude',\n",
       " 'scene',\n",
       " 'give',\n",
       " 'interest',\n",
       " 'glimps',\n",
       " 'coloni',\n",
       " 'rule',\n",
       " 'africa',\n",
       " 'rare',\n",
       " 'find',\n",
       " 'film',\n",
       " 'bear',\n",
       " 'superfici',\n",
       " 'similar',\n",
       " 'africa',\n",
       " 'without',\n",
       " 'romant',\n",
       " 'fluff',\n",
       " 'white',\n",
       " 'french',\n",
       " 'peopl',\n",
       " 'cameroon',\n",
       " 'fascin',\n",
       " 'even',\n",
       " 'seem',\n",
       " 'regard',\n",
       " 'nativ',\n",
       " 'peopl',\n",
       " 'white',\n",
       " 'boss',\n",
       " 'expect',\n",
       " 'black',\n",
       " 'servitud',\n",
       " 'without',\n",
       " 'question',\n",
       " 'howev',\n",
       " 'unlik',\n",
       " 'real',\n",
       " 'servant',\n",
       " 'hear',\n",
       " 'white',\n",
       " 'say',\n",
       " 'thank',\n",
       " 'regard',\n",
       " 'given',\n",
       " 'peopl',\n",
       " 'like',\n",
       " 'pet',\n",
       " 'slave',\n",
       " 'feel',\n",
       " 'peopl',\n",
       " 'never',\n",
       " 'even',\n",
       " 'consid',\n",
       " 'central',\n",
       " 'illustr',\n",
       " 'thoughtless',\n",
       " 'relationship',\n",
       " 'mother',\n",
       " 'aim',\n",
       " 'e',\n",
       " 'servant',\n",
       " 'prot',\n",
       " 'e',\n",
       " 'although',\n",
       " 'time',\n",
       " 'spend',\n",
       " 'lot',\n",
       " 'time',\n",
       " 'togeth',\n",
       " 'normal',\n",
       " 'might',\n",
       " 'begin',\n",
       " 'sexual',\n",
       " 'feel',\n",
       " 'toward',\n",
       " 'white',\n",
       " 'woman',\n",
       " 'never',\n",
       " 'consid',\n",
       " 'prot',\n",
       " 'e',\n",
       " 'exist',\n",
       " 'feel',\n",
       " 'good',\n",
       " 'exampl',\n",
       " 'thoughtless',\n",
       " 'prot',\n",
       " 'e',\n",
       " 'lace',\n",
       " 'dress',\n",
       " 'obviou',\n",
       " 'sexual',\n",
       " 'frustrat',\n",
       " 'apart',\n",
       " 'relationship',\n",
       " 'almost',\n",
       " 'white',\n",
       " 'complet',\n",
       " 'oblivi',\n",
       " 'fact',\n",
       " 'african',\n",
       " 'peopl',\n",
       " 'go',\n",
       " 'far',\n",
       " 'verbal',\n",
       " 'abus',\n",
       " 'treat',\n",
       " 'like',\n",
       " 'garbag',\n",
       " 'also',\n",
       " 'interest',\n",
       " 'relationship',\n",
       " 'prot',\n",
       " 'e',\n",
       " 'littl',\n",
       " 'girl',\n",
       " 'one',\n",
       " 'grown',\n",
       " 'begin',\n",
       " 'end',\n",
       " 'film',\n",
       " 'close',\n",
       " 'time',\n",
       " 'like',\n",
       " 'playth',\n",
       " 'pet',\n",
       " 'girl',\n",
       " 'never',\n",
       " 'play',\n",
       " 'nativ',\n",
       " 'children',\n",
       " 'one',\n",
       " 'bizarr',\n",
       " 'white',\n",
       " 'charact',\n",
       " 'seem',\n",
       " 'time',\n",
       " 'regard',\n",
       " 'black',\n",
       " 'better',\n",
       " 'unfortun',\n",
       " 'charact',\n",
       " 'inconsist',\n",
       " 'confus',\n",
       " 'one',\n",
       " 'moment',\n",
       " 'hard',\n",
       " 'work',\n",
       " 'along',\n",
       " 'side',\n",
       " 'black',\n",
       " 'eat',\n",
       " 'someth',\n",
       " 'white',\n",
       " 'would',\n",
       " 'never',\n",
       " 'done',\n",
       " 'next',\n",
       " 'tri',\n",
       " 'beat',\n",
       " 'prot',\n",
       " 'e',\n",
       " 'could',\n",
       " 'guess',\n",
       " 'motiv',\n",
       " 'perhap',\n",
       " 'jerk',\n",
       " 'crazi',\n",
       " 'perhap',\n",
       " 'communist',\n",
       " 'agit',\n",
       " 'tri',\n",
       " 'stir',\n",
       " 'black',\n",
       " 'white',\n",
       " 'know',\n",
       " 'fact',\n",
       " 'good',\n",
       " 'scene',\n",
       " 'charact',\n",
       " 'seem',\n",
       " 'pretti',\n",
       " 'much',\n",
       " 'wast',\n",
       " 'realli',\n",
       " 'enjoy',\n",
       " 'insight',\n",
       " 'movi',\n",
       " 'gave',\n",
       " 'wish',\n",
       " 'instead',\n",
       " 'snippet',\n",
       " 'world',\n",
       " 'perspect',\n",
       " 'child',\n",
       " 'one',\n",
       " 'small',\n",
       " 'period',\n",
       " 'life',\n",
       " 'context',\n",
       " 'happen',\n",
       " 'rid',\n",
       " 'countri',\n",
       " 'coloni',\n",
       " 'never',\n",
       " 'address',\n",
       " 'film',\n",
       " 'left',\n",
       " 'want',\n",
       " 'film',\n",
       " 'appear',\n",
       " 'begin',\n",
       " 'earli',\n",
       " '1980',\n",
       " 'sinc',\n",
       " 'wear',\n",
       " 'walkman',\n",
       " 'style',\n",
       " 'headset',\n",
       " 'film',\n",
       " 'went',\n",
       " 'back',\n",
       " 'time',\n",
       " 'seem',\n",
       " 'set',\n",
       " '1960',\n",
       " 'less',\n",
       " 'never',\n",
       " 'mention',\n",
       " '1950',\n",
       " 'anti',\n",
       " 'coloni',\n",
       " 'violenc',\n",
       " 'independ',\n",
       " 'nation',\n",
       " 'earli',\n",
       " '1960',\n",
       " 'guess',\n",
       " 'confus',\n",
       " 'might',\n",
       " 'maker',\n",
       " 'film',\n",
       " 'screw',\n",
       " 'made',\n",
       " 'begin',\n",
       " 'film',\n",
       " 'earlier',\n",
       " '1970',\n",
       " 'ladi',\n",
       " 'think',\n",
       " 'back',\n",
       " 'life',\n",
       " 'earli',\n",
       " '1950',\n",
       " 'countri',\n",
       " 'experienc',\n",
       " 'polit',\n",
       " 'chang',\n",
       " 'apart',\n",
       " 'miss',\n",
       " 'context',\n",
       " 'confus',\n",
       " 'time',\n",
       " 'period',\n",
       " 'use',\n",
       " 'prologu',\n",
       " 'epilogu',\n",
       " 'show',\n",
       " 'adult',\n",
       " 'travel',\n",
       " 'countri',\n",
       " 'good',\n",
       " 'idea',\n",
       " 'also',\n",
       " 'appreci',\n",
       " 'end',\n",
       " 'pleasant',\n",
       " 'surpris',\n",
       " 'find',\n",
       " 'nice',\n",
       " 'man',\n",
       " 'offer',\n",
       " 'ride',\n",
       " 'overal',\n",
       " 'feel',\n",
       " 'like',\n",
       " 'someth',\n",
       " 'miss',\n",
       " 'sort',\n",
       " 'resolut',\n",
       " 'messag',\n",
       " 'show',\n",
       " 'coloni',\n",
       " 'thoughtless',\n",
       " 'cruel']"
      ]
     },
     "execution_count": 9,
     "metadata": {},
     "output_type": "execute_result"
    }
   ],
   "source": [
    "# TODO: Apply review_to_words to a review (train_X[100] or any other review)\n",
    "review_to_words(train_X[100] )"
   ]
  },
  {
   "cell_type": "markdown",
   "metadata": {},
   "source": [
    "**Question:** Above we mentioned that `review_to_words` method removes html formatting and allows us to tokenize the words found in a review, for example, converting *entertained* and *entertaining* into *entertain* so that they are treated as though they are the same word. What else, if anything, does this method do to the input?"
   ]
  },
  {
   "cell_type": "markdown",
   "metadata": {},
   "source": [
    "**Answer:**"
   ]
  },
  {
   "cell_type": "markdown",
   "metadata": {},
   "source": [
    "The method below applies the `review_to_words` method to each of the reviews in the training and testing datasets. In addition it caches the results. This is because performing this processing step can take a long time. This way if you are unable to complete the notebook in the current session, you can come back without needing to process the data a second time."
   ]
  },
  {
   "cell_type": "code",
   "execution_count": 10,
   "metadata": {},
   "outputs": [],
   "source": [
    "import pickle\n",
    "\n",
    "cache_dir = os.path.join(\"../cache\", \"sentiment_analysis\")  # where to store cache files\n",
    "os.makedirs(cache_dir, exist_ok=True)  # ensure cache directory exists\n",
    "\n",
    "def preprocess_data(data_train, data_test, labels_train, labels_test,\n",
    "                    cache_dir=cache_dir, cache_file=\"preprocessed_data.pkl\"):\n",
    "    \"\"\"Convert each review to words; read from cache if available.\"\"\"\n",
    "\n",
    "    # If cache_file is not None, try to read from it first\n",
    "    cache_data = None\n",
    "    if cache_file is not None:\n",
    "        try:\n",
    "            with open(os.path.join(cache_dir, cache_file), \"rb\") as f:\n",
    "                cache_data = pickle.load(f)\n",
    "            print(\"Read preprocessed data from cache file:\", cache_file)\n",
    "        except:\n",
    "            pass  # unable to read from cache, but that's okay\n",
    "    \n",
    "    # If cache is missing, then do the heavy lifting\n",
    "    if cache_data is None:\n",
    "        # Preprocess training and test data to obtain words for each review\n",
    "        #words_train = list(map(review_to_words, data_train))\n",
    "        #words_test = list(map(review_to_words, data_test))\n",
    "        words_train = [review_to_words(review) for review in data_train]\n",
    "        words_test = [review_to_words(review) for review in data_test]\n",
    "        \n",
    "        # Write to cache file for future runs\n",
    "        if cache_file is not None:\n",
    "            cache_data = dict(words_train=words_train, words_test=words_test,\n",
    "                              labels_train=labels_train, labels_test=labels_test)\n",
    "            with open(os.path.join(cache_dir, cache_file), \"wb\") as f:\n",
    "                pickle.dump(cache_data, f)\n",
    "            print(\"Wrote preprocessed data to cache file:\", cache_file)\n",
    "    else:\n",
    "        # Unpack data loaded from cache file\n",
    "        words_train, words_test, labels_train, labels_test = (cache_data['words_train'],\n",
    "                cache_data['words_test'], cache_data['labels_train'], cache_data['labels_test'])\n",
    "    \n",
    "    return words_train, words_test, labels_train, labels_test"
   ]
  },
  {
   "cell_type": "code",
   "execution_count": 11,
   "metadata": {},
   "outputs": [
    {
     "name": "stdout",
     "output_type": "stream",
     "text": [
      "Read preprocessed data from cache file: preprocessed_data.pkl\n"
     ]
    }
   ],
   "source": [
    "# Preprocess data\n",
    "train_X, test_X, train_y, test_y = preprocess_data(train_X, test_X, train_y, test_y)"
   ]
  },
  {
   "cell_type": "markdown",
   "metadata": {},
   "source": [
    "## Transform the data\n",
    "\n",
    "In the XGBoost notebook we transformed the data from its word representation to a bag-of-words feature representation. For the model we are going to construct in this notebook we will construct a feature representation which is very similar. To start, we will represent each word as an integer. Of course, some of the words that appear in the reviews occur very infrequently and so likely don't contain much information for the purposes of sentiment analysis. The way we will deal with this problem is that we will fix the size of our working vocabulary and we will only include the words that appear most frequently. We will then combine all of the infrequent words into a single category and, in our case, we will label it as `1`.\n",
    "\n",
    "Since we will be using a recurrent neural network, it will be convenient if the length of each review is the same. To do this, we will fix a size for our reviews and then pad short reviews with the category 'no word' (which we will label `0`) and truncate long reviews."
   ]
  },
  {
   "cell_type": "markdown",
   "metadata": {},
   "source": [
    "### (TODO) Create a word dictionary\n",
    "\n",
    "To begin with, we need to construct a way to map words that appear in the reviews to integers. Here we fix the size of our vocabulary (including the 'no word' and 'infrequent' categories) to be `5000` but you may wish to change this to see how it affects the model.\n",
    "\n",
    "> **TODO:** Complete the implementation for the `build_dict()` method below. Note that even though the vocab_size is set to `5000`, we only want to construct a mapping for the most frequently appearing `4998` words. This is because we want to reserve the special labels `0` for 'no word' and `1` for 'infrequent word'."
   ]
  },
  {
   "cell_type": "code",
   "execution_count": 12,
   "metadata": {},
   "outputs": [],
   "source": [
    "import numpy as np\n",
    "\n",
    "def build_dict(data, vocab_size = 5000):\n",
    "    \"\"\"Construct and return a dictionary mapping each of the most frequently appearing words to a unique integer.\"\"\"\n",
    "    \n",
    "    # TODO: Determine how often each word appears in `data`. Note that `data` is a list of sentences and that a\n",
    "    #       sentence is a list of words.\n",
    "    \n",
    "    word_count = {} # A dict storing the words that appear in the reviews along with how often they occur\n",
    "    for review in data:\n",
    "        for words in review:\n",
    "            if words in word_count:\n",
    "                word_count[words]= word_count[words] + 1\n",
    "            else:\n",
    "                word_count[words]=1\n",
    "    # TODO: Sort the words found in `data` so that sorted_words[0] is the most frequently appearing word and\n",
    "    #       sorted_words[-1] is the least frequently appearing word.\n",
    "    \n",
    "    #sorted_words = None\n",
    "    sorted_values = sorted(word_count.values(),reverse=True) \n",
    "    sorted_words = {}\n",
    "\n",
    "    for i in sorted_values:\n",
    "        for k in word_count.keys():\n",
    "            if word_count[k] == i:\n",
    "                sorted_words[k] = word_count[k]\n",
    "                break\n",
    "    \n",
    "    print(sorted_words)\n",
    "    word_dict = {} # This is what we are building, a dictionary that translates words into integers\n",
    "    for idx, word in enumerate(sorted_words[:vocab_size - 2]): # The -2 is so that we save room for the 'no word'\n",
    "        word_dict[word] = idx + 2                              # 'infrequent' labels\n",
    "        \n",
    "    return word_dict"
   ]
  },
  {
   "cell_type": "code",
   "execution_count": 13,
   "metadata": {},
   "outputs": [
    {
     "name": "stdout",
     "output_type": "stream",
     "text": [
      "{'movi': 51695, 'film': 48190, 'one': 27741, 'like': 22799, 'time': 16191, 'good': 15360, 'make': 15207, 'charact': 14178, 'get': 14141, 'see': 14111, 'watch': 13940, 'stori': 13168, 'even': 12906, 'would': 12436, 'realli': 11736, 'well': 11042, 'scene': 10586, 'look': 10051, 'show': 9878, 'much': 9765, 'end': 9651, 'peopl': 9391, 'bad': 9344, 'go': 9305, 'great': 9171, 'also': 9156, 'first': 9062, 'love': 9027, 'think': 8913, 'way': 8830, 'act': 8794, 'play': 8730, 'made': 8362, 'thing': 8213, 'could': 7921, 'know': 7514, 'say': 7457, 'seem': 7220, 'work': 7101, 'plot': 6967, 'two': 6908, 'actor': 6876, 'year': 6874, 'come': 6747, 'mani': 6688, 'seen': 6681, 'take': 6654, 'life': 6640, 'never': 6484, 'littl': 6435, 'best': 6424, 'tri': 6357, 'man': 6036, 'ever': 5999, 'give': 5792, 'better': 5749, 'still': 5664, 'perform': 5528, 'find': 5449, 'feel': 5300, 'part': 5247, 'back': 5133, 'use': 5123, 'someth': 5122, 'director': 5120, 'actual': 5065, 'interest': 4893, 'lot': 4778, 'real': 4741, 'old': 4583, 'cast': 4573, 'though': 4566, 'live': 4477, 'star': 4447, 'enjoy': 4353, 'guy': 4339, 'anoth': 4325, 'new': 4315, 'role': 4300, 'noth': 4296, '10': 4289, 'funni': 4288, 'music': 4247, 'point': 4238, 'start': 4166, 'set': 4116, 'girl': 4064, 'origin': 4044, 'day': 4013, 'world': 3979, 'everi': 3977, 'believ': 3917, 'turn': 3880, 'quit': 3841, 'direct': 3794, 'thought': 3773, 'fact': 3749, 'minut': 3739, 'horror': 3717, 'kill': 3701, 'action': 3694, 'comedi': 3686, 'pretti': 3665, 'young': 3664, 'wonder': 3639, 'happen': 3624, 'around': 3616, 'got': 3583, 'effect': 3581, 'right': 3554, 'long': 3540, 'howev': 3537, 'big': 3477, 'line': 3458, 'famili': 3454, 'enough': 3452, 'seri': 3420, 'may': 3392, 'need': 3378, 'fan': 3370, 'bit': 3348, 'script': 3342, 'beauti': 3292, 'person': 3274, 'becom': 3272, 'without': 3268, 'must': 3250, 'alway': 3243, 'friend': 3230, 'tell': 3215, 'reason': 3206, 'saw': 3178, 'last': 3158, 'final': 3153, 'kid': 3148, 'almost': 3139, 'put': 3132, 'least': 3112, 'sure': 3100, 'done': 3096, 'whole': 3080, 'place': 3048, 'complet': 3035, 'kind': 3008, 'expect': 3007, 'shot': 2998, 'far': 2978, 'mean': 2961, 'anyth': 2949, 'book': 2935, 'laugh': 2926, 'might': 2919, 'name': 2917, 'sinc': 2906, 'begin': 2905, '2': 2882, 'probabl': 2874, 'woman': 2838, 'help': 2828, 'entertain': 2827, 'let': 2821, 'screen': 2799, 'call': 2792, 'tv': 2786, 'moment': 2784, 'away': 2782, 'read': 2762, 'yet': 2753, 'rather': 2733, 'worst': 2731, 'run': 2723, 'fun': 2694, 'lead': 2684, 'hard': 2681, 'audienc': 2675, 'idea': 2638, 'anyon': 2632, 'episod': 2629, 'american': 2618, 'found': 2608, 'appear': 2567, 'bore': 2549, 'especi': 2539, 'although': 2537, 'hope': 2529, 'cours': 2520, 'anim': 2483, 'job': 2461, 'goe': 2441, 'move': 2434, 'sens': 2416, 'dvd': 2410, 'war': 2394, 'money': 2370, 'someon': 2363, 'mind': 2354, 'mayb': 2340, 'problem': 2337, 'true': 2333, 'hous': 2328, 'everyth': 2323, 'nice': 2312, 'second': 2309, 'rate': 2300, 'three': 2297, 'night': 2293, 'face': 2292, 'recommend': 2290, 'main': 2283, 'worth': 2280, 'leav': 2272, 'human': 2262, 'special': 2258, 'excel': 2251, 'togeth': 2247, 'wast': 2229, 'everyon': 2228, 'john': 2222, 'hand': 2221, '1': 2213, 'father': 2206, 'later': 2202, 'eye': 2200, 'said': 2196, 'view': 2193, 'instead': 2190, 'review': 2184, 'boy': 2178, 'high': 2174, 'hour': 2164, 'miss': 2160, 'classic': 2159, 'wife': 2140, 'understand': 2132, 'left': 2125, 'care': 2124, 'black': 2123, 'death': 2113, 'open': 2103, 'murder': 2102, 'write': 2096, 'half': 2094, 'head': 2075, 'rememb': 2070, 'chang': 2062, 'viewer': 2047, 'fight': 2040, 'gener': 2022, 'surpris': 2021, 'short': 2020, 'die': 2012, 'fall': 2004, 'less': 2003, 'els': 2002, 'entir': 1993, 'piec': 1981, 'involv': 1980, 'pictur': 1968, 'simpli': 1965, 'home': 1957, 'total': 1948, 'usual': 1946, 'budget': 1933, 'attempt': 1932, 'suppos': 1924, 'releas': 1921, 'hollywood': 1920, 'terribl': 1917, 'song': 1916, 'men': 1915, 'possibl': 1913, 'featur': 1903, 'portray': 1902, 'disappoint': 1900, '3': 1899, 'coupl': 1894, 'stupid': 1888, 'dead': 1883, 'wrong': 1872, 'low': 1870, 'either': 1866, 'aw': 1861, 'definit': 1856, 'except': 1854, 'rest': 1852, 'given': 1849, 'absolut': 1845, 'women': 1827, 'lack': 1821, 'word': 1817, 'writer': 1814, 'titl': 1793, 'talent': 1787, 'decid': 1786, 'full': 1783, 'perfect': 1778, 'along': 1777, 'style': 1760, 'close': 1744, 'truli': 1743, 'school': 1732, 'save': 1731, 'age': 1726, 'next': 1716, 'bring': 1715, 'mr': 1708, 'case': 1706, 'killer': 1700, 'heart': 1688, 'comment': 1687, 'sort': 1684, 'creat': 1683, 'perhap': 1681, 'came': 1673, 'brother': 1664, 'sever': 1663, 'joke': 1656, 'art': 1653, 'dialogu': 1652, 'game': 1651, 'small': 1648, 'base': 1645, 'flick': 1629, 'written': 1616, 'sequenc': 1609, 'meet': 1608, 'earli': 1605, 'often': 1601, 'other': 1598, 'mother': 1597, 'develop': 1595, 'humor': 1592, 'actress': 1588, 'consid': 1585, 'dark': 1573, 'guess': 1565, 'amaz': 1563, 'unfortun': 1562, 'light': 1555, 'exampl': 1554, 'cinema': 1553, 'drama': 1552, 'ye': 1551, 'experi': 1548, 'imagin': 1547, 'mention': 1545, 'stop': 1543, 'natur': 1541, 'forc': 1534, 'manag': 1529, 'felt': 1528, 'cut': 1520, 'children': 1515, 'fail': 1511, 'son': 1506, 'support': 1505, 'ask': 1500, 'hit': 1497, 'side': 1490, 'voic': 1482, 'extrem': 1473, 'impress': 1472, 'wors': 1468, 'went': 1463, 'certainli': 1462, 'basic': 1453, 'oh': 1450, 'overal': 1434, 'favorit': 1421, 'horribl': 1418, 'mysteri': 1416, 'number': 1413, 'type': 1408, 'danc': 1405, 'wait': 1400, 'hero': 1389, '5': 1381, 'learn': 1375, 'matter': 1373, '4': 1372, 'michael': 1370, 'genr': 1367, 'fine': 1366, 'despit': 1364, 'throughout': 1360, 'walk': 1358, 'success': 1344, 'histori': 1338, 'question': 1333, 'zombi': 1331, 'town': 1328, 'relationship': 1327, 'child': 1324, 'daughter': 1312, 'late': 1309, 'b': 1306, 'wish': 1303, 'hate': 1295, 'event': 1293, 'theme': 1292, 'touch': 1284, 'citi': 1283, 'today': 1282, 'sometim': 1281, 'behind': 1280, 'god': 1271, 'twist': 1268, 'sit': 1263, 'stay': 1260, 'abl': 1259, 'rent': 1256, 'pleas': 1253, 'edit': 1250, 'blood': 1245, 'deserv': 1236, 'comic': 1230, 'appar': 1226, 'soon': 1222, 'gave': 1216, 'etc': 1212, 'level': 1210, 'slow': 1207, 'chanc': 1204, 'score': 1203, 'bodi': 1199, 'brilliant': 1196, 'incred': 1194, 'figur': 1190, 'situat': 1188, 'major': 1185, 'stuff': 1181, 'decent': 1178, 'element': 1176, 'return': 1174, 'obvious': 1168, 'order': 1159, 'pace': 1156, 'ridicul': 1154, 'happi': 1151, 'highli': 1147, 'thank': 1146, 'ladi': 1145, 'novel': 1130, 'speak': 1129, 'career': 1116, 'shoot': 1115, 'strang': 1114, 'heard': 1111, 'sad': 1108, 'husband': 1105, 'import': 1103, 'break': 1101, 'took': 1100, 'cannot': 1096, 'robert': 1095, 'violenc': 1091, 'hilari': 1090, 'recent': 1089, 'countri': 1086, 'known': 1081, 'particularli': 1079, 'pick': 1078, 'documentari': 1074, 'season': 1072, 'critic': 1071, 'jame': 1069, 'compar': 1068, 'alon': 1066, 'told': 1063, 'state': 1060, 'rock': 1058, 'theater': 1057, 'opinion': 1056, 'gore': 1055, 'crap': 1054, 'result': 1052, 'realiti': 1050, 'clich': 1047, 'thriller': 1046, 'caus': 1044, 'sequel': 1042, 'king': 1036, 'local': 1035, 'ago': 1033, 'none': 1032, 'note': 1027, 'allow': 1026, 'sister': 1025, 'simpl': 1023, 'femal': 1022, 'deliv': 1021, 'ok': 1017, 'convinc': 1012, 'check': 1011, 'suspens': 1009, 'win': 1008, 'buy': 1007, 'huge': 1006, 'valu': 1004, 'sexual': 1000, 'cool': 998, 'similar': 996, 'provid': 995, 'shown': 994, 'seriou': 989, 'english': 987, 'whose': 986, 'cinematographi': 983, 'shock': 979, 'polit': 978, 'spoiler': 976, 'offic': 975, 'across': 971, 'middl': 969, 'pass': 968, 'messag': 966, 'charm': 965, 'modern': 964, 'filmmak': 959, 'form': 957, 'tale': 956, 'singl': 950, 'jack': 945, 'mostli': 941, 'carri': 940, 'sing': 939, 'five': 938, 'richard': 937, 'team': 935, 'cop': 934, 'georg': 933, 'televis': 932, 'earth': 929, 'villain': 927, 'pay': 924, 'marri': 923, 'toward': 922, 'build': 921, 'pull': 920, 'due': 918, 'fill': 917, 'dialog': 915, 'remind': 913, 'futur': 912, 'weak': 908, '7': 904, 'cheap': 903, 'intellig': 902, 'british': 901, '80': 899, 'paul': 898, 'knew': 897, 'crime': 896, 'easili': 892, 'escap': 889, 'doubt': 887, 'detail': 884, 'date': 883, 'member': 879, 'drive': 872, 'straight': 869, 'beyond': 866, 'attack': 864, 'imag': 860, 'upon': 859, 'posit': 858, 'whether': 856, 'peter': 855, 'appreci': 852, 'ten': 851, 'plan': 850, 'discov': 849, 'remain': 846, 'near': 843, 'air': 842, 'mark': 838, 'red': 837, 'dull': 836, 'adapt': 835, 'within': 832, 'spend': 828, 'color': 827, 'chase': 824, 'mari': 823, 'storylin': 822, 'forget': 821, 'bunch': 819, 'clear': 818, 'lee': 817, 'victim': 816, 'nearli': 815, 'box': 813, 'york': 812, 'inspir': 811, 'mess': 809, 'standard': 808, 'easi': 806, 'truth': 805, 'busi': 802, 'dramat': 799, 'western': 798, 'e': 797, 'list': 796, 'battl': 795, 'notic': 793, 'de': 792, 'french': 790, 'ad': 788, '9': 787, 'tom': 785, 'larg': 784, 'among': 783, 'eventu': 782, 'train': 781, 'agre': 779, 'spirit': 778, 'third': 776, 'teenag': 775, 'soldier': 773, 'famou': 771, 'babi': 770, 'ultim': 769, 'contain': 765, 'certain': 764, 'cultur': 762, 'romanc': 760, 'rare': 759, 'lame': 758, 'somehow': 757, 'disney': 755, 'gone': 754, 'cartoon': 753, 'student': 752, 'fear': 751, 'suck': 750, 'attract': 749, 'appeal': 748, 'premis': 747, 'design': 745, 'shame': 743, 'throw': 742, 'scare': 741, 'wit': 739, 'admit': 738, 'relat': 737, 'screenplay': 735, 'whatev': 734, 'pure': 733, '70': 732, 'averag': 730, 'master': 729, 'describ': 728, 'treat': 727, '20': 726, 'fantasi': 725, 'warn': 724, 'inde': 722, 'forward': 719, 'free': 717, 'memor': 714, 'poorli': 713, 'award': 712, 'locat': 711, 'amus': 710, 'struggl': 709, 'weird': 708, 'societi': 707, 'okay': 706, 'accent': 704, 'water': 703, 'alien': 702, 'odd': 701, 'crazi': 699, 'fiction': 698, 'becam': 697, 'masterpiec': 696, 'fli': 695, 'joe': 692, 'scream': 690, 'costum': 689, 'lover': 688, 'refer': 687, 'remak': 686, 'vampir': 684, 'prison': 682, 'execut': 680, 'wear': 678, 'jump': 677, 'unless': 675, 'creepi': 673, 'cheesi': 672, 'superb': 671, 'otherwis': 670, 'parti': 668, 'roll': 666, 'mad': 664, 'depict': 663, 'badli': 662, 'fi': 660, 'flaw': 659, 'sci': 658, 'cat': 657, 'older': 656, 'bother': 655, 'outsid': 653, 'stick': 650, 'gay': 649, 'catch': 647, 'co': 645, 'popular': 643, 'equal': 642, 'social': 641, 'disturb': 639, 'perfectli': 637, 'dress': 636, '90': 635, 'mistak': 634, 'lie': 632, 'ride': 630, 'combin': 629, 'band': 627, 'answer': 626, 'front': 624, 'sweet': 623, 'insid': 622, 'concern': 621, 'ben': 619, 'c': 617, 'term': 615, 'meant': 614, 'stereotyp': 613, 'law': 609, 'desper': 608, 'promis': 607, 'cute': 604, 'variou': 603, 'brain': 601, 'post': 600, 'tone': 599, 'island': 598, 'amount': 597, 'compani': 596, 'claim': 595, 'flat': 594, 'univers': 592, 'fairli': 587, 'player': 586, 'plain': 584, 'toni': 582, 'share': 581, 'tast': 580, 'achiev': 578, 'travel': 577, 'record': 576, 'sadli': 575, 'wrote': 574, 'fascin': 573, 'familiar': 572, 'burn': 570, 'histor': 569, 'sleep': 568, 'purpos': 567, 'languag': 566, 'ruin': 565, 'delight': 564, 'unbeliev': 563, 'soul': 562, 'clever': 561, 'violent': 560, 'rape': 559, 'reach': 558, 'door': 557, 'trash': 556, 'caught': 555, 'creatur': 554, 'approach': 552, 'fashion': 550, 'skill': 549, 'channel': 548, 'camp': 546, 'christian': 544, 'extra': 543, 'immedi': 542, '6': 541, 'conclus': 539, 'imposs': 538, 'neither': 537, 'physic': 536, 'respons': 535, 'planet': 534, 'receiv': 532, 'sick': 531, 'bizarr': 529, 'embarrass': 528, 'indian': 527, '15': 525, 'drop': 524, 'drag': 523, 'haunt': 521, 'suspect': 519, 'edg': 517, 'handl': 516, 'common': 515, 'faith': 514, 'technic': 513, 'angel': 512, 'dad': 511, 'solid': 510, 'colleg': 509, 'count': 507, 'tear': 506, 'wall': 505, 'younger': 504, 'excus': 503, 'cult': 502, 'tough': 501, 'desir': 500, 'addit': 499, 'cloth': 497, 'tortur': 496, 'race': 495, 'author': 494, 'jim': 492, 'consist': 491, 'chemistri': 490, 'park': 489, 'frank': 488, 'grade': 487, '60': 486, 'brutal': 485, 'somewher': 483, 'opportun': 482, 'honest': 481, 'anti': 480, 'intend': 479, 'bar': 478, 'scientist': 477, 'decad': 476, 'silent': 475, 'armi': 474, 'wild': 473, 'g': 472, 'draw': 471, 'road': 470, 'govern': 469, 'boss': 468, 'practic': 467, 'club': 466, 'london': 465, 'idiot': 464, 'repeat': 463, '100': 462, '40': 461, 'garbag': 460, 'smile': 459, 'mood': 458, 'stone': 457, 'mouth': 456, 'agent': 455, 'utterli': 454, 'honestli': 453, 'report': 452, 'investig': 451, 'serial': 450, 'passion': 449, 'climax': 448, 'industri': 447, 'center': 446, 'loos': 445, 'hang': 444, 'graphic': 442, 'admir': 440, 'send': 439, 'damn': 438, 'nake': 437, 'blow': 436, 'bottom': 435, 'batman': 434, 'boyfriend': 433, 'initi': 431, 'frame': 430, 'gem': 429, 'challeng': 428, 'j': 426, 'arm': 425, 'henri': 424, 'witch': 423, 'hunt': 422, 'wise': 421, 'month': 420, 'sceneri': 419, 'bond': 418, 'outstand': 417, 'satisfi': 416, 'central': 415, 'content': 414, 'gag': 413, 'slowli': 412, 'hire': 411, 'system': 410, 'individu': 409, 'mediocr': 408, 'ray': 407, 'photographi': 406, 'fellow': 405, 'strike': 404, 'brief': 403, 'neg': 402, 'impact': 401, 'ill': 400, 'spoil': 399, 'likabl': 398, 'hill': 397, 'ahead': 396, 'sent': 395, 'occur': 394, 'mainli': 393, 'commerci': 392, 'teacher': 391, 'zero': 390, 'resembl': 389, 'ball': 388, 'sub': 387, 'reaction': 386, 'bomb': 385, 'will': 384, 'sport': 383, 'trust': 382, 'encount': 381, 'plane': 380, 'al': 379, 'martin': 378, 'join': 377, 'field': 376, 'vision': 375, 'tie': 374, 'fortun': 373, 'dread': 372, 'nonsens': 371, 'formula': 370, 'dollar': 369, 'fox': 368, 'ugli': 367, 'prepar': 366, 'warm': 365, 'youth': 364, 'length': 362, 'crash': 361, 'superior': 360, 'remot': 359, 'disgust': 358, 'convers': 357, 'rob': 356, 'mine': 355, 'heroin': 353, 'brian': 352, 'desert': 351, 'ms': 350, 'accur': 349, 'market': 348, 'eddi': 347, 'jackson': 346, 'that': 345, 'accid': 344, 'afraid': 343, 'russian': 342, 'test': 341, 'european': 340, 'insan': 339, 'rescu': 338, 'dirti': 337, 'joy': 336, 'price': 335, 'bland': 334, 'anymor': 333, 'wooden': 332, 'rush': 331, 'led': 330, 'transform': 329, 'onto': 328, 'process': 327, 'owner': 326, 'aim': 325, 'necessari': 324, 'opposit': 323, 'insight': 322, 'movement': 321, 'comparison': 320, 'rain': 319, 'bank': 318, 'princ': 317, 'friendship': 316, 'teach': 315, 'hint': 314, 'marvel': 312, 'drunk': 311, 'brown': 310, 'tim': 309, 'charg': 308, 'unnecessari': 307, 'perspect': 306, 'nativ': 305, 'knowledg': 304, 'ice': 303, 'joan': 302, '000': 301, 'dan': 300, 'radio': 299, 'thousand': 298, 'sum': 297, '1970': 296, 'regular': 295, 'worker': 294, 'japan': 293, 'constant': 292, 'sea': 291, 'sat': 290, 'toy': 289, 'mike': 288, 'separ': 287, 'recal': 286, 'freak': 285, 'african': 284, 'clark': 283, 'structur': 282, 'paper': 281, 'factor': 280, 'educ': 279, 'assist': 278, 'observ': 277, 'fame': 276, 'lone': 275, 'numer': 274, 'civil': 273, 'morn': 272, 'accomplish': 271, 'whenev': 270, 'h': 269, 'activ': 268, 'trek': 267, 'lesbian': 266, 'statu': 265, 'context': 264, 'clip': 263, 'reli': 262, 'addict': 261, 'specif': 260, 'comfort': 259, 'lucki': 258, 'lower': 257, 'degre': 256, 'print': 255, 'mass': 254, 'unexpect': 253, 'depend': 252, 'matur': 251, 'sudden': 250, 'robin': 249, 'crappi': 248, 'laughter': 247, 'defin': 246, 'captiv': 245, 'gratuit': 244, 'k': 243, 'statement': 242, 'cheer': 241, 'victor': 240, 'neighbor': 239, 'authent': 238, 'ancient': 237, 'nevertheless': 236, 'gori': 235, 'switch': 234, 'victoria': 233, '0': 232, 'com': 231, 'wrap': 230, 'indic': 229, 'roy': 228, 'brave': 227, 'ador': 226, 'alcohol': 225, 'professor': 224, '1930': 223, 'saturday': 222, 'sin': 221, 'resid': 220, 'terrifi': 219, 'task': 218, 'rival': 217, 'beach': 216, 'murphi': 215, 'reminisc': 214, 'north': 213, 'descript': 212, 'uninterest': 211, 'maintain': 210, 'reject': 209, 'ala': 208, 'cant': 207, 'guest': 206, 'landscap': 205, 'birth': 204, 'guid': 203, 'warrior': 202, 'exact': 201, 'warner': 200, 'metal': 199, 'particip': 198, '1960': 197, 'leagu': 196, 'campi': 195, 'pro': 194, 'attach': 193, 'prior': 192, 'nose': 191, 'buri': 190, 'turkey': 189, 'proud': 188, 'sink': 187, 'storm': 186, 'mexico': 185, 'ha': 184, 'address': 183, 'thumb': 182, 'mechan': 181, 'holiday': 180, 'philip': 179, 'pregnant': 178, 'garden': 177, 'incid': 176, 'sandler': 175, 'mildli': 174, 'funnier': 173, 'extent': 172, 'east': 171, 'appli': 170, 'mansion': 169, 'breathtak': 168, 'properli': 167, 'neck': 166, 'portrait': 165, 'chees': 164, 'chop': 163, 'spring': 162, 'uninspir': 161, '2001': 160, 'aspir': 159, 'neighborhood': 158, 'albeit': 157, 'contract': 156, 'cannib': 155, 'greatli': 154, 'crisi': 153, 'helen': 152, 'carter': 151, 'fighter': 150, 'kurt': 149, 'adequ': 148, 'ralph': 147, 'grate': 146, 'cruis': 145, 'layer': 144, 'persona': 143, 'boredom': 142, 'eleph': 141, 'gadget': 140, 'eastwood': 139, 'huh': 138, 'dealt': 137, 'ritter': 136, 'briefli': 135, 'wannab': 134, 'stood': 133, 'ian': 132, 'resolv': 131, 'conveni': 130, 'hamilton': 129, 'eccentr': 128, 'norman': 127, 'enthusiast': 126, 'abc': 125, 'artifici': 124, 'craven': 123, 'ruth': 122, 'we': 121, 'overdon': 120, 'awe': 119, 'ah': 118, 'stinker': 117, 'marin': 116, 'dose': 115, 'natali': 114, 'delici': 113, 'pseudo': 112, 'crocodil': 111, 'abysm': 110, '2nd': 109, 'mickey': 108, 'cake': 107, 'florida': 106, '3rd': 105, 'inferior': 104, 'arab': 103, 'maci': 102, 'psychic': 101, 'ration': 100, 'jonathan': 99, 'mutant': 98, 'rocki': 97, 'tonight': 96, 'stilt': 95, 'graham': 94, 'scottish': 93, 'lowest': 92, 'compliment': 91, 'omen': 90, 'labor': 89, 'basketbal': 88, 'walsh': 87, 'alison': 86, 'angela': 85, 'cream': 84, 'demis': 83, 'norm': 82, 'crippl': 81, 'helpless': 80, 'inabl': 79, 'awhil': 78, 'fright': 77, '1939': 76, 'esther': 75, 'youngest': 74, 'effici': 73, 'insipid': 72, 'foolish': 71, 'dwarf': 70, 'www': 69, 'dylan': 68, 'akin': 67, 'affleck': 66, 'potter': 65, 'pronounc': 64, 'kiddi': 63, 'bravo': 62, 'christina': 61, 'yokai': 60, 'sgt': 59, 'chamber': 58, 'speaker': 57, 'polar': 56, 'inclin': 55, 'dispatch': 54, 'cindi': 53, 'phoenix': 52, 'orgi': 51, 'spotlight': 50, 'district': 49, 'overbear': 48, 'scam': 47, 'egyptian': 46, 'mustach': 45, 'mold': 44, 'gandolfini': 43, 'melbourn': 42, '500': 41, 'viscer': 40, 'snob': 39, 'stevenson': 38, 'delus': 37, 'marathon': 36, 'cristina': 35, 'brothel': 34, 'formid': 33, 'poppin': 32, 'savior': 31, 'tomlinson': 30, 'googl': 29, 'combo': 28, 'jj': 27, 'pervas': 26, 'appleg': 25, 'weisz': 24, 'maggot': 23, 'munch': 22, 'sloth': 21, 'broomstick': 20, 'squirt': 19, 'inflect': 18, 'overview': 17, 'milit': 16, 'aja': 15, 'gooni': 14, 'predominantli': 13, 'lear': 12, 'batch': 11, 'impedi': 10, 'visayan': 9, 'cadenc': 8, 'thhe': 7, 'inbre': 6, 'brini': 5, 'bouncer': 4, 'phonet': 3, 'discombobul': 2, 'footer': 1}\n"
     ]
    },
    {
     "ename": "TypeError",
     "evalue": "unhashable type: 'slice'",
     "output_type": "error",
     "traceback": [
      "\u001b[0;31m---------------------------------------------------------------------------\u001b[0m",
      "\u001b[0;31mTypeError\u001b[0m                                 Traceback (most recent call last)",
      "\u001b[0;32m<ipython-input-13-76e0964b40bb>\u001b[0m in \u001b[0;36m<module>\u001b[0;34m\u001b[0m\n\u001b[0;32m----> 1\u001b[0;31m \u001b[0mword_dict\u001b[0m \u001b[0;34m=\u001b[0m \u001b[0mbuild_dict\u001b[0m\u001b[0;34m(\u001b[0m\u001b[0mtrain_X\u001b[0m\u001b[0;34m)\u001b[0m\u001b[0;34m\u001b[0m\u001b[0;34m\u001b[0m\u001b[0m\n\u001b[0m",
      "\u001b[0;32m<ipython-input-12-e36cb5b0a933>\u001b[0m in \u001b[0;36mbuild_dict\u001b[0;34m(data, vocab_size)\u001b[0m\n\u001b[1;32m     29\u001b[0m     \u001b[0mprint\u001b[0m\u001b[0;34m(\u001b[0m\u001b[0msorted_words\u001b[0m\u001b[0;34m)\u001b[0m\u001b[0;34m\u001b[0m\u001b[0;34m\u001b[0m\u001b[0m\n\u001b[1;32m     30\u001b[0m     \u001b[0mword_dict\u001b[0m \u001b[0;34m=\u001b[0m \u001b[0;34m{\u001b[0m\u001b[0;34m}\u001b[0m \u001b[0;31m# This is what we are building, a dictionary that translates words into integers\u001b[0m\u001b[0;34m\u001b[0m\u001b[0;34m\u001b[0m\u001b[0m\n\u001b[0;32m---> 31\u001b[0;31m     \u001b[0;32mfor\u001b[0m \u001b[0midx\u001b[0m\u001b[0;34m,\u001b[0m \u001b[0mword\u001b[0m \u001b[0;32min\u001b[0m \u001b[0menumerate\u001b[0m\u001b[0;34m(\u001b[0m\u001b[0msorted_words\u001b[0m\u001b[0;34m[\u001b[0m\u001b[0;34m:\u001b[0m\u001b[0mvocab_size\u001b[0m \u001b[0;34m-\u001b[0m \u001b[0;36m2\u001b[0m\u001b[0;34m]\u001b[0m\u001b[0;34m)\u001b[0m\u001b[0;34m:\u001b[0m \u001b[0;31m# The -2 is so that we save room for the 'no word'\u001b[0m\u001b[0;34m\u001b[0m\u001b[0;34m\u001b[0m\u001b[0m\n\u001b[0m\u001b[1;32m     32\u001b[0m         \u001b[0mword_dict\u001b[0m\u001b[0;34m[\u001b[0m\u001b[0mword\u001b[0m\u001b[0;34m]\u001b[0m \u001b[0;34m=\u001b[0m \u001b[0midx\u001b[0m \u001b[0;34m+\u001b[0m \u001b[0;36m2\u001b[0m                              \u001b[0;31m# 'infrequent' labels\u001b[0m\u001b[0;34m\u001b[0m\u001b[0;34m\u001b[0m\u001b[0m\n\u001b[1;32m     33\u001b[0m \u001b[0;34m\u001b[0m\u001b[0m\n",
      "\u001b[0;31mTypeError\u001b[0m: unhashable type: 'slice'"
     ]
    }
   ],
   "source": [
    "word_dict = build_dict(train_X)"
   ]
  },
  {
   "cell_type": "markdown",
   "metadata": {},
   "source": [
    "**Question:** What are the five most frequently appearing (tokenized) words in the training set? Does it makes sense that these words appear frequently in the training set?"
   ]
  },
  {
   "cell_type": "markdown",
   "metadata": {},
   "source": [
    "**Answer: **  \n",
    "The words found with their frequency are : 'movi': 51695, 'film': 48190, 'one': 27741, 'like': 22799, 'time': 16191\n",
    "The frequency seems to be logical because we work on a review dataset and people may use these words /:movie, film../ in every review and maybe a lot of times"
   ]
  },
  {
   "cell_type": "code",
   "execution_count": 14,
   "metadata": {},
   "outputs": [
    {
     "ename": "NameError",
     "evalue": "name 'word_dict' is not defined",
     "output_type": "error",
     "traceback": [
      "\u001b[0;31m---------------------------------------------------------------------------\u001b[0m",
      "\u001b[0;31mNameError\u001b[0m                                 Traceback (most recent call last)",
      "\u001b[0;32m<ipython-input-14-45ffcf22d739>\u001b[0m in \u001b[0;36m<module>\u001b[0;34m\u001b[0m\n\u001b[0;32m----> 1\u001b[0;31m \u001b[0mword_dict\u001b[0m\u001b[0;34m\u001b[0m\u001b[0;34m\u001b[0m\u001b[0m\n\u001b[0m",
      "\u001b[0;31mNameError\u001b[0m: name 'word_dict' is not defined"
     ]
    }
   ],
   "source": [
    "word_dict"
   ]
  },
  {
   "cell_type": "code",
   "execution_count": null,
   "metadata": {},
   "outputs": [],
   "source": [
    "# TODO: Use this space to determine the five most frequently appearing words in the training set.\n",
    "\n",
    "print('five most frequent tokenzied words:',list(word_dict.keys())[0:5])\n",
    "\n",
    "# words found with their frequency are : 'movi': 51695, 'film': 48190, 'one': 27741, 'like': 22799, 'time': 16191\n",
    "# The frequency seems to be logical because we work on a review dataset and people may use these words /:movie, film../ in every review and maybe a lot of times"
   ]
  },
  {
   "cell_type": "markdown",
   "metadata": {},
   "source": [
    "### Save `word_dict`\n",
    "\n",
    "Later on when we construct an endpoint which processes a submitted review we will need to make use of the `word_dict` which we have created. As such, we will save it to a file now for future use."
   ]
  },
  {
   "cell_type": "code",
   "execution_count": null,
   "metadata": {},
   "outputs": [],
   "source": [
    "data_dir = '../data/pytorch' # The folder we will use for storing data\n",
    "if not os.path.exists(data_dir): # Make sure that the folder exists\n",
    "    os.makedirs(data_dir)"
   ]
  },
  {
   "cell_type": "code",
   "execution_count": null,
   "metadata": {},
   "outputs": [],
   "source": [
    "with open(os.path.join(data_dir, 'word_dict.pkl'), \"wb\") as f:\n",
    "    pickle.dump(word_dict, f)"
   ]
  },
  {
   "cell_type": "markdown",
   "metadata": {},
   "source": [
    "### Transform the reviews\n",
    "\n",
    "Now that we have our word dictionary which allows us to transform the words appearing in the reviews into integers, it is time to make use of it and convert our reviews to their integer sequence representation, making sure to pad or truncate to a fixed length, which in our case is `500`."
   ]
  },
  {
   "cell_type": "code",
   "execution_count": null,
   "metadata": {},
   "outputs": [],
   "source": [
    "def convert_and_pad(word_dict, sentence, pad=500):\n",
    "    NOWORD = 0 # We will use 0 to represent the 'no word' category\n",
    "    INFREQ = 1 # and we use 1 to represent the infrequent words, i.e., words not appearing in word_dict\n",
    "    \n",
    "    working_sentence = [NOWORD] * pad\n",
    "    \n",
    "    for word_index, word in enumerate(sentence[:pad]):\n",
    "        if word in word_dict:\n",
    "            working_sentence[word_index] = word_dict[word]\n",
    "        else:\n",
    "            working_sentence[word_index] = INFREQ\n",
    "            \n",
    "    return working_sentence, min(len(sentence), pad)\n",
    "\n",
    "def convert_and_pad_data(word_dict, data, pad=500):\n",
    "    result = []\n",
    "    lengths = []\n",
    "    \n",
    "    for sentence in data:\n",
    "        converted, leng = convert_and_pad(word_dict, sentence, pad)\n",
    "        result.append(converted)\n",
    "        lengths.append(leng)\n",
    "        \n",
    "    return np.array(result), np.array(lengths)"
   ]
  },
  {
   "cell_type": "code",
   "execution_count": null,
   "metadata": {},
   "outputs": [],
   "source": [
    "train_X, train_X_len = convert_and_pad_data(word_dict, train_X)\n",
    "test_X, test_X_len = convert_and_pad_data(word_dict, test_X)"
   ]
  },
  {
   "cell_type": "markdown",
   "metadata": {},
   "source": [
    "As a quick check to make sure that things are working as intended, check to see what one of the reviews in the training set looks like after having been processeed. Does this look reasonable? What is the length of a review in the training set?"
   ]
  },
  {
   "cell_type": "code",
   "execution_count": null,
   "metadata": {},
   "outputs": [],
   "source": [
    "# Use this cell to examine one of the processed reviews to make sure everything is working as intended.\n",
    "train_X[100]\n",
    "test_X[100]\n",
    "len(train_X[100])"
   ]
  },
  {
   "cell_type": "markdown",
   "metadata": {},
   "source": [
    "**Question:** In the cells above we use the `preprocess_data` and `convert_and_pad_data` methods to process both the training and testing set. Why or why not might this be a problem?"
   ]
  },
  {
   "cell_type": "markdown",
   "metadata": {},
   "source": [
    "**Answer:**\n",
    "preprocess_data-> saving file to not run the method review_to_words again to optimize time runing \n",
    "convert_and_pad_data - > As we will use RNN later it is important to have same length of sequences\n"
   ]
  },
  {
   "cell_type": "markdown",
   "metadata": {},
   "source": [
    "## Step 3: Upload the data to S3\n",
    "\n",
    "As in the XGBoost notebook, we will need to upload the training dataset to S3 in order for our training code to access it. For now we will save it locally and we will upload to S3 later on.\n",
    "\n",
    "### Save the processed training dataset locally\n",
    "\n",
    "It is important to note the format of the data that we are saving as we will need to know it when we write the training code. In our case, each row of the dataset has the form `label`, `length`, `review[500]` where `review[500]` is a sequence of `500` integers representing the words in the review."
   ]
  },
  {
   "cell_type": "code",
   "execution_count": null,
   "metadata": {},
   "outputs": [],
   "source": [
    "import pandas as pd\n",
    "    \n",
    "pd.concat([pd.DataFrame(train_y), pd.DataFrame(train_X_len), pd.DataFrame(train_X)], axis=1) \\\n",
    "        .to_csv(os.path.join(data_dir, 'train.csv'), header=False, index=False)"
   ]
  },
  {
   "cell_type": "markdown",
   "metadata": {},
   "source": [
    "### Uploading the training data\n",
    "\n",
    "\n",
    "Next, we need to upload the training data to the SageMaker default S3 bucket so that we can provide access to it while training our model."
   ]
  },
  {
   "cell_type": "code",
   "execution_count": null,
   "metadata": {},
   "outputs": [],
   "source": [
    "import sagemaker\n",
    "\n",
    "sagemaker_session = sagemaker.Session()\n",
    "\n",
    "bucket = sagemaker_session.default_bucket()\n",
    "prefix = 'sagemaker/sentiment_rnn'\n",
    "\n",
    "role = sagemaker.get_execution_role()"
   ]
  },
  {
   "cell_type": "code",
   "execution_count": null,
   "metadata": {},
   "outputs": [],
   "source": [
    "input_data = sagemaker_session.upload_data(path=data_dir, bucket=bucket, key_prefix=prefix)"
   ]
  },
  {
   "cell_type": "markdown",
   "metadata": {},
   "source": [
    "**NOTE:** The cell above uploads the entire contents of our data directory. This includes the `word_dict.pkl` file. This is fortunate as we will need this later on when we create an endpoint that accepts an arbitrary review. For now, we will just take note of the fact that it resides in the data directory (and so also in the S3 training bucket) and that we will need to make sure it gets saved in the model directory."
   ]
  },
  {
   "cell_type": "markdown",
   "metadata": {},
   "source": [
    "## Step 4: Build and Train the PyTorch Model\n",
    "\n",
    "In the XGBoost notebook we discussed what a model is in the SageMaker framework. In particular, a model comprises three objects\n",
    "\n",
    " - Model Artifacts,\n",
    " - Training Code, and\n",
    " - Inference Code,\n",
    " \n",
    "each of which interact with one another. In the XGBoost example we used training and inference code that was provided by Amazon. Here we will still be using containers provided by Amazon with the added benefit of being able to include our own custom code.\n",
    "\n",
    "We will start by implementing our own neural network in PyTorch along with a training script. For the purposes of this project we have provided the necessary model object in the `model.py` file, inside of the `train` folder. You can see the provided implementation by running the cell below."
   ]
  },
  {
   "cell_type": "code",
   "execution_count": null,
   "metadata": {},
   "outputs": [],
   "source": [
    "!pygmentize train/model.py"
   ]
  },
  {
   "cell_type": "markdown",
   "metadata": {},
   "source": [
    "The important takeaway from the implementation provided is that there are three parameters that we may wish to tweak to improve the performance of our model. These are the embedding dimension, the hidden dimension and the size of the vocabulary. We will likely want to make these parameters configurable in the training script so that if we wish to modify them we do not need to modify the script itself. We will see how to do this later on. To start we will write some of the training code in the notebook so that we can more easily diagnose any issues that arise.\n",
    "\n",
    "First we will load a small portion of the training data set to use as a sample. It would be very time consuming to try and train the model completely in the notebook as we do not have access to a gpu and the compute instance that we are using is not particularly powerful. However, we can work on a small bit of the data to get a feel for how our training script is behaving."
   ]
  },
  {
   "cell_type": "code",
   "execution_count": null,
   "metadata": {},
   "outputs": [],
   "source": [
    "import torch\n",
    "import torch.utils.data\n",
    "\n",
    "# Read in only the first 250 rows\n",
    "train_sample = pd.read_csv(os.path.join(data_dir, 'train.csv'), header=None, names=None, nrows=250)\n",
    "\n",
    "# Turn the input pandas dataframe into tensors\n",
    "train_sample_y = torch.from_numpy(train_sample[[0]].values).float().squeeze()\n",
    "train_sample_X = torch.from_numpy(train_sample.drop([0], axis=1).values).long()\n",
    "\n",
    "# Build the dataset\n",
    "train_sample_ds = torch.utils.data.TensorDataset(train_sample_X, train_sample_y)\n",
    "# Build the dataloader\n",
    "train_sample_dl = torch.utils.data.DataLoader(train_sample_ds, batch_size=50)"
   ]
  },
  {
   "cell_type": "markdown",
   "metadata": {},
   "source": [
    "### (TODO) Writing the training method\n",
    "\n",
    "Next we need to write the training code itself. This should be very similar to training methods that you have written before to train PyTorch models. We will leave any difficult aspects such as model saving / loading and parameter loading until a little later."
   ]
  },
  {
   "cell_type": "code",
   "execution_count": null,
   "metadata": {},
   "outputs": [],
   "source": [
    "def train(model, train_loader, epochs, optimizer, loss_fn, device):\n",
    "    for epoch in range(1, epochs + 1):\n",
    "        model.train()\n",
    "        total_loss = 0\n",
    "        for batch in train_loader:         \n",
    "            batch_X, batch_y = batch\n",
    "            \n",
    "            batch_X = batch_X.to(device)\n",
    "            batch_y = batch_y.to(device)\n",
    "            \n",
    "            # TODO: Complete this train method to train the model provided.\n",
    "            optimizer.zero_grad()\n",
    "            output = model.forward(batch_X)\n",
    "            loss = loss_fn(output, batch_y)\n",
    "            loss.backward()\n",
    "            optimizer.step()\n",
    "            \n",
    "            total_loss += loss.data.item()\n",
    "        print(\"Epoch: {}, BCELoss: {}\".format(epoch, total_loss / len(train_loader)))"
   ]
  },
  {
   "cell_type": "markdown",
   "metadata": {},
   "source": [
    "Supposing we have the training method above, we will test that it is working by writing a bit of code in the notebook that executes our training method on the small sample training set that we loaded earlier. The reason for doing this in the notebook is so that we have an opportunity to fix any errors that arise early when they are easier to diagnose."
   ]
  },
  {
   "cell_type": "code",
   "execution_count": null,
   "metadata": {},
   "outputs": [],
   "source": [
    "import torch.optim as optim\n",
    "from train.model import LSTMClassifier\n",
    "\n",
    "device = torch.device(\"cuda\" if torch.cuda.is_available() else \"cpu\")\n",
    "model = LSTMClassifier(32, 100, 5000).to(device)\n",
    "optimizer = optim.Adam(model.parameters())\n",
    "loss_fn = torch.nn.BCELoss()\n",
    "\n",
    "train(model, train_sample_dl, 5, optimizer, loss_fn, device)"
   ]
  },
  {
   "cell_type": "markdown",
   "metadata": {},
   "source": [
    "In order to construct a PyTorch model using SageMaker we must provide SageMaker with a training script. We may optionally include a directory which will be copied to the container and from which our training code will be run. When the training container is executed it will check the uploaded directory (if there is one) for a `requirements.txt` file and install any required Python libraries, after which the training script will be run."
   ]
  },
  {
   "cell_type": "markdown",
   "metadata": {},
   "source": [
    "### (TODO) Training the model\n",
    "\n",
    "When a PyTorch model is constructed in SageMaker, an entry point must be specified. This is the Python file which will be executed when the model is trained. Inside of the `train` directory is a file called `train.py` which has been provided and which contains most of the necessary code to train our model. The only thing that is missing is the implementation of the `train()` method which you wrote earlier in this notebook.\n",
    "\n",
    "**TODO**: Copy the `train()` method written above and paste it into the `train/train.py` file where required.\n",
    "\n",
    "The way that SageMaker passes hyperparameters to the training script is by way of arguments. These arguments can then be parsed and used in the training script. To see how this is done take a look at the provided `train/train.py` file."
   ]
  },
  {
   "cell_type": "code",
   "execution_count": null,
   "metadata": {},
   "outputs": [],
   "source": [
    "from sagemaker.pytorch import PyTorch\n",
    "\n",
    "estimator = PyTorch(entry_point=\"train.py\",\n",
    "                    source_dir=\"train\",\n",
    "                    role=role,\n",
    "                    framework_version='0.4.0',\n",
    "                    train_instance_count=1,\n",
    "                    train_instance_type='ml.p2.xlarge',\n",
    "                    hyperparameters={\n",
    "                        'epochs': 10,\n",
    "                        'hidden_dim': 200,\n",
    "                    })"
   ]
  },
  {
   "cell_type": "code",
   "execution_count": null,
   "metadata": {},
   "outputs": [],
   "source": [
    "estimator.fit({'training': input_data})"
   ]
  },
  {
   "cell_type": "markdown",
   "metadata": {},
   "source": [
    "## Step 5: Testing the model\n",
    "\n",
    "As mentioned at the top of this notebook, we will be testing this model by first deploying it and then sending the testing data to the deployed endpoint. We will do this so that we can make sure that the deployed model is working correctly.\n",
    "\n",
    "## Step 6: Deploy the model for testing\n",
    "\n",
    "Now that we have trained our model, we would like to test it to see how it performs. Currently our model takes input of the form `review_length, review[500]` where `review[500]` is a sequence of `500` integers which describe the words present in the review, encoded using `word_dict`. Fortunately for us, SageMaker provides built-in inference code for models with simple inputs such as this.\n",
    "\n",
    "There is one thing that we need to provide, however, and that is a function which loads the saved model. This function must be called `model_fn()` and takes as its only parameter a path to the directory where the model artifacts are stored. This function must also be present in the python file which we specified as the entry point. In our case the model loading function has been provided and so no changes need to be made.\n",
    "\n",
    "**NOTE**: When the built-in inference code is run it must import the `model_fn()` method from the `train.py` file. This is why the training code is wrapped in a main guard ( ie, `if __name__ == '__main__':` )\n",
    "\n",
    "Since we don't need to change anything in the code that was uploaded during training, we can simply deploy the current model as-is.\n",
    "\n",
    "**NOTE:** When deploying a model you are asking SageMaker to launch an compute instance that will wait for data to be sent to it. As a result, this compute instance will continue to run until *you* shut it down. This is important to know since the cost of a deployed endpoint depends on how long it has been running for.\n",
    "\n",
    "In other words **If you are no longer using a deployed endpoint, shut it down!**\n",
    "\n",
    "**TODO:** Deploy the trained model."
   ]
  },
  {
   "cell_type": "code",
   "execution_count": null,
   "metadata": {},
   "outputs": [],
   "source": [
    "# TODO: Deploy the trained model"
   ]
  },
  {
   "cell_type": "markdown",
   "metadata": {},
   "source": [
    "## Step 7 - Use the model for testing\n",
    "\n",
    "Once deployed, we can read in the test data and send it off to our deployed model to get some results. Once we collect all of the results we can determine how accurate our model is."
   ]
  },
  {
   "cell_type": "code",
   "execution_count": null,
   "metadata": {},
   "outputs": [],
   "source": [
    "test_X = pd.concat([pd.DataFrame(test_X_len), pd.DataFrame(test_X)], axis=1)"
   ]
  },
  {
   "cell_type": "code",
   "execution_count": null,
   "metadata": {},
   "outputs": [],
   "source": [
    "# We split the data into chunks and send each chunk seperately, accumulating the results.\n",
    "\n",
    "def predict(data, rows=512):\n",
    "    split_array = np.array_split(data, int(data.shape[0] / float(rows) + 1))\n",
    "    predictions = np.array([])\n",
    "    for array in split_array:\n",
    "        predictions = np.append(predictions, predictor.predict(array))\n",
    "    \n",
    "    return predictions"
   ]
  },
  {
   "cell_type": "code",
   "execution_count": null,
   "metadata": {},
   "outputs": [],
   "source": [
    "predictions = predict(test_X.values)\n",
    "predictions = [round(num) for num in predictions]"
   ]
  },
  {
   "cell_type": "code",
   "execution_count": null,
   "metadata": {},
   "outputs": [],
   "source": [
    "from sklearn.metrics import accuracy_score\n",
    "accuracy_score(test_y, predictions)"
   ]
  },
  {
   "cell_type": "markdown",
   "metadata": {},
   "source": [
    "**Question:** How does this model compare to the XGBoost model you created earlier? Why might these two models perform differently on this dataset? Which do *you* think is better for sentiment analysis?"
   ]
  },
  {
   "cell_type": "markdown",
   "metadata": {},
   "source": [
    "**Answer:**"
   ]
  },
  {
   "cell_type": "markdown",
   "metadata": {},
   "source": [
    "### (TODO) More testing\n",
    "\n",
    "We now have a trained model which has been deployed and which we can send processed reviews to and which returns the predicted sentiment. However, ultimately we would like to be able to send our model an unprocessed review. That is, we would like to send the review itself as a string. For example, suppose we wish to send the following review to our model."
   ]
  },
  {
   "cell_type": "code",
   "execution_count": null,
   "metadata": {},
   "outputs": [],
   "source": [
    "test_review = 'The simplest pleasures in life are the best, and this film is one of them. Combining a rather basic storyline of love and adventure this movie transcends the usual weekend fair with wit and unmitigated charm.'"
   ]
  },
  {
   "cell_type": "markdown",
   "metadata": {},
   "source": [
    "The question we now need to answer is, how do we send this review to our model?\n",
    "\n",
    "Recall in the first section of this notebook we did a bunch of data processing to the IMDb dataset. In particular, we did two specific things to the provided reviews.\n",
    " - Removed any html tags and stemmed the input\n",
    " - Encoded the review as a sequence of integers using `word_dict`\n",
    " \n",
    "In order process the review we will need to repeat these two steps.\n",
    "\n",
    "**TODO**: Using the `review_to_words` and `convert_and_pad` methods from section one, convert `test_review` into a numpy array `test_data` suitable to send to our model. Remember that our model expects input of the form `review_length, review[500]`."
   ]
  },
  {
   "cell_type": "code",
   "execution_count": null,
   "metadata": {},
   "outputs": [],
   "source": [
    "# TODO: Convert test_review into a form usable by the model and save the results in test_data\n",
    "test_data = None"
   ]
  },
  {
   "cell_type": "markdown",
   "metadata": {},
   "source": [
    "Now that we have processed the review, we can send the resulting array to our model to predict the sentiment of the review."
   ]
  },
  {
   "cell_type": "code",
   "execution_count": null,
   "metadata": {},
   "outputs": [],
   "source": [
    "predictor.predict(test_data)"
   ]
  },
  {
   "cell_type": "markdown",
   "metadata": {},
   "source": [
    "Since the return value of our model is close to `1`, we can be certain that the review we submitted is positive."
   ]
  },
  {
   "cell_type": "markdown",
   "metadata": {},
   "source": [
    "### Delete the endpoint\n",
    "\n",
    "Of course, just like in the XGBoost notebook, once we've deployed an endpoint it continues to run until we tell it to shut down. Since we are done using our endpoint for now, we can delete it."
   ]
  },
  {
   "cell_type": "code",
   "execution_count": null,
   "metadata": {},
   "outputs": [],
   "source": [
    "estimator.delete_endpoint()"
   ]
  },
  {
   "cell_type": "markdown",
   "metadata": {},
   "source": [
    "## Step 6 (again) - Deploy the model for the web app\n",
    "\n",
    "Now that we know that our model is working, it's time to create some custom inference code so that we can send the model a review which has not been processed and have it determine the sentiment of the review.\n",
    "\n",
    "As we saw above, by default the estimator which we created, when deployed, will use the entry script and directory which we provided when creating the model. However, since we now wish to accept a string as input and our model expects a processed review, we need to write some custom inference code.\n",
    "\n",
    "We will store the code that we write in the `serve` directory. Provided in this directory is the `model.py` file that we used to construct our model, a `utils.py` file which contains the `review_to_words` and `convert_and_pad` pre-processing functions which we used during the initial data processing, and `predict.py`, the file which will contain our custom inference code. Note also that `requirements.txt` is present which will tell SageMaker what Python libraries are required by our custom inference code.\n",
    "\n",
    "When deploying a PyTorch model in SageMaker, you are expected to provide four functions which the SageMaker inference container will use.\n",
    " - `model_fn`: This function is the same function that we used in the training script and it tells SageMaker how to load our model.\n",
    " - `input_fn`: This function receives the raw serialized input that has been sent to the model's endpoint and its job is to de-serialize and make the input available for the inference code.\n",
    " - `output_fn`: This function takes the output of the inference code and its job is to serialize this output and return it to the caller of the model's endpoint.\n",
    " - `predict_fn`: The heart of the inference script, this is where the actual prediction is done and is the function which you will need to complete.\n",
    "\n",
    "For the simple website that we are constructing during this project, the `input_fn` and `output_fn` methods are relatively straightforward. We only require being able to accept a string as input and we expect to return a single value as output. You might imagine though that in a more complex application the input or output may be image data or some other binary data which would require some effort to serialize.\n",
    "\n",
    "### (TODO) Writing inference code\n",
    "\n",
    "Before writing our custom inference code, we will begin by taking a look at the code which has been provided."
   ]
  },
  {
   "cell_type": "code",
   "execution_count": null,
   "metadata": {},
   "outputs": [],
   "source": [
    "!pygmentize serve/predict.py"
   ]
  },
  {
   "cell_type": "markdown",
   "metadata": {},
   "source": [
    "As mentioned earlier, the `model_fn` method is the same as the one provided in the training code and the `input_fn` and `output_fn` methods are very simple and your task will be to complete the `predict_fn` method. Make sure that you save the completed file as `predict.py` in the `serve` directory.\n",
    "\n",
    "**TODO**: Complete the `predict_fn()` method in the `serve/predict.py` file."
   ]
  },
  {
   "cell_type": "markdown",
   "metadata": {},
   "source": [
    "### Deploying the model\n",
    "\n",
    "Now that the custom inference code has been written, we will create and deploy our model. To begin with, we need to construct a new PyTorchModel object which points to the model artifacts created during training and also points to the inference code that we wish to use. Then we can call the deploy method to launch the deployment container.\n",
    "\n",
    "**NOTE**: The default behaviour for a deployed PyTorch model is to assume that any input passed to the predictor is a `numpy` array. In our case we want to send a string so we need to construct a simple wrapper around the `RealTimePredictor` class to accomodate simple strings. In a more complicated situation you may want to provide a serialization object, for example if you wanted to sent image data."
   ]
  },
  {
   "cell_type": "code",
   "execution_count": null,
   "metadata": {},
   "outputs": [],
   "source": [
    "from sagemaker.predictor import RealTimePredictor\n",
    "from sagemaker.pytorch import PyTorchModel\n",
    "\n",
    "class StringPredictor(RealTimePredictor):\n",
    "    def __init__(self, endpoint_name, sagemaker_session):\n",
    "        super(StringPredictor, self).__init__(endpoint_name, sagemaker_session, content_type='text/plain')\n",
    "\n",
    "model = PyTorchModel(model_data=estimator.model_data,\n",
    "                     role = role,\n",
    "                     framework_version='0.4.0',\n",
    "                     entry_point='predict.py',\n",
    "                     source_dir='serve',\n",
    "                     predictor_cls=StringPredictor)\n",
    "predictor = model.deploy(initial_instance_count=1, instance_type='ml.m4.xlarge')"
   ]
  },
  {
   "cell_type": "markdown",
   "metadata": {},
   "source": [
    "### Testing the model\n",
    "\n",
    "Now that we have deployed our model with the custom inference code, we should test to see if everything is working. Here we test our model by loading the first `250` positive and negative reviews and send them to the endpoint, then collect the results. The reason for only sending some of the data is that the amount of time it takes for our model to process the input and then perform inference is quite long and so testing the entire data set would be prohibitive."
   ]
  },
  {
   "cell_type": "code",
   "execution_count": null,
   "metadata": {},
   "outputs": [],
   "source": [
    "import glob\n",
    "\n",
    "def test_reviews(data_dir='../data/aclImdb', stop=250):\n",
    "    \n",
    "    results = []\n",
    "    ground = []\n",
    "    \n",
    "    # We make sure to test both positive and negative reviews    \n",
    "    for sentiment in ['pos', 'neg']:\n",
    "        \n",
    "        path = os.path.join(data_dir, 'test', sentiment, '*.txt')\n",
    "        files = glob.glob(path)\n",
    "        \n",
    "        files_read = 0\n",
    "        \n",
    "        print('Starting ', sentiment, ' files')\n",
    "        \n",
    "        # Iterate through the files and send them to the predictor\n",
    "        for f in files:\n",
    "            with open(f) as review:\n",
    "                # First, we store the ground truth (was the review positive or negative)\n",
    "                if sentiment == 'pos':\n",
    "                    ground.append(1)\n",
    "                else:\n",
    "                    ground.append(0)\n",
    "                # Read in the review and convert to 'utf-8' for transmission via HTTP\n",
    "                review_input = review.read().encode('utf-8')\n",
    "                # Send the review to the predictor and store the results\n",
    "                results.append(float(predictor.predict(review_input)))\n",
    "                \n",
    "            # Sending reviews to our endpoint one at a time takes a while so we\n",
    "            # only send a small number of reviews\n",
    "            files_read += 1\n",
    "            if files_read == stop:\n",
    "                break\n",
    "            \n",
    "    return ground, results"
   ]
  },
  {
   "cell_type": "code",
   "execution_count": null,
   "metadata": {},
   "outputs": [],
   "source": [
    "ground, results = test_reviews()"
   ]
  },
  {
   "cell_type": "code",
   "execution_count": null,
   "metadata": {},
   "outputs": [],
   "source": [
    "from sklearn.metrics import accuracy_score\n",
    "accuracy_score(ground, results)"
   ]
  },
  {
   "cell_type": "markdown",
   "metadata": {},
   "source": [
    "As an additional test, we can try sending the `test_review` that we looked at earlier."
   ]
  },
  {
   "cell_type": "code",
   "execution_count": null,
   "metadata": {},
   "outputs": [],
   "source": [
    "predictor.predict(test_review)"
   ]
  },
  {
   "cell_type": "markdown",
   "metadata": {},
   "source": [
    "Now that we know our endpoint is working as expected, we can set up the web page that will interact with it. If you don't have time to finish the project now, make sure to skip down to the end of this notebook and shut down your endpoint. You can deploy it again when you come back."
   ]
  },
  {
   "cell_type": "markdown",
   "metadata": {},
   "source": [
    "## Step 7 (again): Use the model for the web app\n",
    "\n",
    "> **TODO:** This entire section and the next contain tasks for you to complete, mostly using the AWS console.\n",
    "\n",
    "So far we have been accessing our model endpoint by constructing a predictor object which uses the endpoint and then just using the predictor object to perform inference. What if we wanted to create a web app which accessed our model? The way things are set up currently makes that not possible since in order to access a SageMaker endpoint the app would first have to authenticate with AWS using an IAM role which included access to SageMaker endpoints. However, there is an easier way! We just need to use some additional AWS services.\n",
    "\n",
    "<img src=\"Web App Diagram.svg\">\n",
    "\n",
    "The diagram above gives an overview of how the various services will work together. On the far right is the model which we trained above and which is deployed using SageMaker. On the far left is our web app that collects a user's movie review, sends it off and expects a positive or negative sentiment in return.\n",
    "\n",
    "In the middle is where some of the magic happens. We will construct a Lambda function, which you can think of as a straightforward Python function that can be executed whenever a specified event occurs. We will give this function permission to send and recieve data from a SageMaker endpoint.\n",
    "\n",
    "Lastly, the method we will use to execute the Lambda function is a new endpoint that we will create using API Gateway. This endpoint will be a url that listens for data to be sent to it. Once it gets some data it will pass that data on to the Lambda function and then return whatever the Lambda function returns. Essentially it will act as an interface that lets our web app communicate with the Lambda function.\n",
    "\n",
    "### Setting up a Lambda function\n",
    "\n",
    "The first thing we are going to do is set up a Lambda function. This Lambda function will be executed whenever our public API has data sent to it. When it is executed it will receive the data, perform any sort of processing that is required, send the data (the review) to the SageMaker endpoint we've created and then return the result.\n",
    "\n",
    "#### Part A: Create an IAM Role for the Lambda function\n",
    "\n",
    "Since we want the Lambda function to call a SageMaker endpoint, we need to make sure that it has permission to do so. To do this, we will construct a role that we can later give the Lambda function.\n",
    "\n",
    "Using the AWS Console, navigate to the **IAM** page and click on **Roles**. Then, click on **Create role**. Make sure that the **AWS service** is the type of trusted entity selected and choose **Lambda** as the service that will use this role, then click **Next: Permissions**.\n",
    "\n",
    "In the search box type `sagemaker` and select the check box next to the **AmazonSageMakerFullAccess** policy. Then, click on **Next: Review**.\n",
    "\n",
    "Lastly, give this role a name. Make sure you use a name that you will remember later on, for example `LambdaSageMakerRole`. Then, click on **Create role**.\n",
    "\n",
    "#### Part B: Create a Lambda function\n",
    "\n",
    "Now it is time to actually create the Lambda function.\n",
    "\n",
    "Using the AWS Console, navigate to the AWS Lambda page and click on **Create a function**. When you get to the next page, make sure that **Author from scratch** is selected. Now, name your Lambda function, using a name that you will remember later on, for example `sentiment_analysis_func`. Make sure that the **Python 3.6** runtime is selected and then choose the role that you created in the previous part. Then, click on **Create Function**.\n",
    "\n",
    "On the next page you will see some information about the Lambda function you've just created. If you scroll down you should see an editor in which you can write the code that will be executed when your Lambda function is triggered. In our example, we will use the code below. \n",
    "\n",
    "```python\n",
    "# We need to use the low-level library to interact with SageMaker since the SageMaker API\n",
    "# is not available natively through Lambda.\n",
    "import boto3\n",
    "\n",
    "def lambda_handler(event, context):\n",
    "\n",
    "    # The SageMaker runtime is what allows us to invoke the endpoint that we've created.\n",
    "    runtime = boto3.Session().client('sagemaker-runtime')\n",
    "\n",
    "    # Now we use the SageMaker runtime to invoke our endpoint, sending the review we were given\n",
    "    response = runtime.invoke_endpoint(EndpointName = '**ENDPOINT NAME HERE**',    # The name of the endpoint we created\n",
    "                                       ContentType = 'text/plain',                 # The data format that is expected\n",
    "                                       Body = event['body'])                       # The actual review\n",
    "\n",
    "    # The response is an HTTP response whose body contains the result of our inference\n",
    "    result = response['Body'].read().decode('utf-8')\n",
    "\n",
    "    return {\n",
    "        'statusCode' : 200,\n",
    "        'headers' : { 'Content-Type' : 'text/plain', 'Access-Control-Allow-Origin' : '*' },\n",
    "        'body' : result\n",
    "    }\n",
    "```\n",
    "\n",
    "Once you have copy and pasted the code above into the Lambda code editor, replace the `**ENDPOINT NAME HERE**` portion with the name of the endpoint that we deployed earlier. You can determine the name of the endpoint using the code cell below."
   ]
  },
  {
   "cell_type": "code",
   "execution_count": null,
   "metadata": {},
   "outputs": [],
   "source": [
    "predictor.endpoint"
   ]
  },
  {
   "cell_type": "markdown",
   "metadata": {},
   "source": [
    "Once you have added the endpoint name to the Lambda function, click on **Save**. Your Lambda function is now up and running. Next we need to create a way for our web app to execute the Lambda function.\n",
    "\n",
    "### Setting up API Gateway\n",
    "\n",
    "Now that our Lambda function is set up, it is time to create a new API using API Gateway that will trigger the Lambda function we have just created.\n",
    "\n",
    "Using AWS Console, navigate to **Amazon API Gateway** and then click on **Get started**.\n",
    "\n",
    "On the next page, make sure that **New API** is selected and give the new api a name, for example, `sentiment_analysis_api`. Then, click on **Create API**.\n",
    "\n",
    "Now we have created an API, however it doesn't currently do anything. What we want it to do is to trigger the Lambda function that we created earlier.\n",
    "\n",
    "Select the **Actions** dropdown menu and click **Create Method**. A new blank method will be created, select its dropdown menu and select **POST**, then click on the check mark beside it.\n",
    "\n",
    "For the integration point, make sure that **Lambda Function** is selected and click on the **Use Lambda Proxy integration**. This option makes sure that the data that is sent to the API is then sent directly to the Lambda function with no processing. It also means that the return value must be a proper response object as it will also not be processed by API Gateway.\n",
    "\n",
    "Type the name of the Lambda function you created earlier into the **Lambda Function** text entry box and then click on **Save**. Click on **OK** in the pop-up box that then appears, giving permission to API Gateway to invoke the Lambda function you created.\n",
    "\n",
    "The last step in creating the API Gateway is to select the **Actions** dropdown and click on **Deploy API**. You will need to create a new Deployment stage and name it anything you like, for example `prod`.\n",
    "\n",
    "You have now successfully set up a public API to access your SageMaker model. Make sure to copy or write down the URL provided to invoke your newly created public API as this will be needed in the next step. This URL can be found at the top of the page, highlighted in blue next to the text **Invoke URL**."
   ]
  },
  {
   "cell_type": "markdown",
   "metadata": {},
   "source": [
    "## Step 4: Deploying our web app\n",
    "\n",
    "Now that we have a publicly available API, we can start using it in a web app. For our purposes, we have provided a simple static html file which can make use of the public api you created earlier.\n",
    "\n",
    "In the `website` folder there should be a file called `index.html`. Download the file to your computer and open that file up in a text editor of your choice. There should be a line which contains **\\*\\*REPLACE WITH PUBLIC API URL\\*\\***. Replace this string with the url that you wrote down in the last step and then save the file.\n",
    "\n",
    "Now, if you open `index.html` on your local computer, your browser will behave as a local web server and you can use the provided site to interact with your SageMaker model.\n",
    "\n",
    "If you'd like to go further, you can host this html file anywhere you'd like, for example using github or hosting a static site on Amazon's S3. Once you have done this you can share the link with anyone you'd like and have them play with it too!\n",
    "\n",
    "> **Important Note** In order for the web app to communicate with the SageMaker endpoint, the endpoint has to actually be deployed and running. This means that you are paying for it. Make sure that the endpoint is running when you want to use the web app but that you shut it down when you don't need it, otherwise you will end up with a surprisingly large AWS bill.\n",
    "\n",
    "**TODO:** Make sure that you include the edited `index.html` file in your project submission."
   ]
  },
  {
   "cell_type": "markdown",
   "metadata": {},
   "source": [
    "Now that your web app is working, trying playing around with it and see how well it works.\n",
    "\n",
    "**Question**: Give an example of a review that you entered into your web app. What was the predicted sentiment of your example review?"
   ]
  },
  {
   "cell_type": "markdown",
   "metadata": {},
   "source": [
    "**Answer:**"
   ]
  },
  {
   "cell_type": "markdown",
   "metadata": {},
   "source": [
    "### Delete the endpoint\n",
    "\n",
    "Remember to always shut down your endpoint if you are no longer using it. You are charged for the length of time that the endpoint is running so if you forget and leave it on you could end up with an unexpectedly large bill."
   ]
  },
  {
   "cell_type": "code",
   "execution_count": null,
   "metadata": {},
   "outputs": [],
   "source": [
    "predictor.delete_endpoint()"
   ]
  },
  {
   "cell_type": "code",
   "execution_count": null,
   "metadata": {},
   "outputs": [],
   "source": []
  }
 ],
 "metadata": {
  "kernelspec": {
   "display_name": "conda_pytorch_p36",
   "language": "python",
   "name": "conda_pytorch_p36"
  },
  "language_info": {
   "codemirror_mode": {
    "name": "ipython",
    "version": 3
   },
   "file_extension": ".py",
   "mimetype": "text/x-python",
   "name": "python",
   "nbconvert_exporter": "python",
   "pygments_lexer": "ipython3",
   "version": "3.6.13"
  }
 },
 "nbformat": 4,
 "nbformat_minor": 2
}
